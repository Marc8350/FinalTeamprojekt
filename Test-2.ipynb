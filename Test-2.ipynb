{
 "cells": [
  {
   "cell_type": "markdown",
   "metadata": {},
   "source": [
    "# Teilautomatisierter Prozess zur Erfassung von Sicherheitswissen in einer Ontologie\n"
   ]
  },
  {
   "cell_type": "markdown",
   "metadata": {},
   "source": [
    "Der hier beschriebene Prozess ist dabei auf das Grundschutzkompendium bezogen, kann aber für andere Quellen in abgewandelter Form genauso verwendet werden."
   ]
  },
  {
   "cell_type": "markdown",
   "metadata": {},
   "source": [
    " ### Zur Vorbereitung werden folgende Schritte benötigt:\n",
    " - Google Cloud Developer Account erstellen und lokal anmelden dabei den Schritten unter https://cloud.google.com/vertex-ai/docs/start/cloud-environment folgen\n",
    " - Vertex API und Umgebung einrichten: https://cloud.google.com/vertex-ai/docs/start/cloud-environment \n",
    " - Erstellung eines Google Cloud Storage Buckets nach: https://cloud.google.com/storage/docs/creating-buckets?hl=de\n",
    " - Entwicklungsumgebung in Python \n",
    " - Installation der requirements"
   ]
  },
  {
   "cell_type": "markdown",
   "metadata": {},
   "source": [
    "## Der Prozess\n",
    "1. Herunterladen der Kreuzreferenztabelle, den Bausteinen in einzelnen PDFs und des Grundschutzkompendiums in Buchformat\n",
    "2. Hochladen der Bausteine in den Google Cloud Storage Bucket. \n",
    "3. Liste der Dokumente laden über die Google Cloud shell per : gsutil ls gs://DEIN_BUCKET/ und in ein Textdokument abspeichern\n",
    "4. Überprüfen ob die hier gelisteten Gefahren noch den im Grundschutzkompendium geführten Gefahren entsprechen"
   ]
  },
  {
   "cell_type": "code",
   "execution_count": 15,
   "metadata": {
    "ExecuteTime": {
     "end_time": "2024-07-29T13:26:05.474615Z",
     "start_time": "2024-07-29T13:26:05.455650Z"
    }
   },
   "outputs": [],
   "source": [
    "gefahren = [{'handle': 'G 0.1', 'text': 'Feuer'}, {'handle': 'G 0.2', 'text': 'Ungünstige klimatische Bedingungen'}, {'handle': 'G 0.3', 'text': 'Wasser'}, {'handle': 'G 0.4', 'text': 'Verschmutzung, Staub, Korrosion'}, {'handle': 'G 0.5', 'text': 'Naturkatastrophen'}, {'handle': 'G 0.6', 'text': 'Katastrophen im Umfeld'}, {'handle': 'G 0.7', 'text': 'Großereignisse im Umfeld'}, {'handle': 'G 0.8', 'text': 'Ausfall oder Störung der Stromversorgung'}, {'handle': 'G 0.9', 'text': 'Ausfall oder Störung von Kommunikationsnetzen'}, {'handle': 'G 0.10', 'text': 'Ausfall oder Störung von Versorgungsnetzen'}, {'handle': 'G 0.11', 'text': 'Ausfall oder Störung von Dienstleistungsunternehmen'}, {'handle': 'G 0.12', 'text': 'Elektromagnetische Störstrahlung'}, {'handle': 'G 0.13', 'text': 'Abfangen kompromittierender Strahlung'}, {'handle': 'G 0.14', 'text': 'Ausspähen von Informationen (Spionage)'}, {'handle': 'G 0.15', 'text': 'Abhören'}, {'handle': 'G 0.16', 'text': 'Diebstahl von Geräten, Datenträgern oder Dokumenten'}, {'handle': 'G 0.17', 'text': 'Verlust von Geräten, Datenträgern oder Dokumenten'}, {'handle': 'G 0.18', 'text': 'Fehlplanung oder fehlende Anpassung'}, {'handle': 'G 0.19', 'text': 'Offenlegung schützenswerter Informationen'}, {'handle': 'G 0.20', 'text': 'Informationen oder Produkte aus unzuverlässiger Quelle'}, {'handle': 'G 0.21', 'text': 'Manipulation von Hard- oder Software'}, {'handle': 'G 0.22', 'text': 'Manipulation von Informationen'}, {'handle': 'G 0.23', 'text': 'Unbefugtes Eindringen in IT-Systeme'}, {'handle': 'G 0.24', 'text': 'Zerstörung von Geräten oder Datenträgern'}, {'handle': 'G 0.25', 'text': 'Ausfall von Geräten oder Systemen'}, {'handle': 'G 0.26', 'text': 'Fehlfunktion von Geräten oder Systemen'}, {'handle': 'G 0.27', 'text': 'Ressourcenmangel'}, {'handle': 'G 0.28', 'text': 'Software-Schwachstellen oder -Fehler'}, {'handle': 'G 0.29', 'text': 'Verstoß gegen Gesetze oder Regelungen'}, {'handle': 'G 0.30', 'text': 'Unberechtigte Nutzung oder Administration von Geräten und Systemen'}, {'handle': 'G 0.31', 'text': 'Fehlerhafte Nutzung oder Administration von Geräten und Systemen'}, {'handle': 'G 0.32', 'text': 'Missbrauch von Berechtigungen'}, {'handle': 'G 0.33', 'text': 'Personalausfall'}, {'handle': 'G 0.34', 'text': 'Anschlag'}, {'handle': 'G 0.35', 'text': 'Nötigung, Erpressung oder Korruption'}, {'handle': 'G 0.36', 'text': 'Identitätsdiebstahl'}, {'handle': 'G 0.37', 'text': 'Abstreiten von Handlungen'}, {'handle': 'G 0.38', 'text': 'Missbrauch personenbezogener Daten'}, {'handle': 'G 0.39', 'text': 'Schadprogramme'}, {'handle': 'G 0.40', 'text': 'Verhinderung von Diensten (Denial of Service)'}, {'handle': 'G 0.41', 'text': 'Sabotage'}, {'handle': 'G 0.42', 'text': 'Social Engineering'}, {'handle': 'G 0.43', 'text': 'Einspielen von Nachrichten'}, {'handle': 'G 0.44', 'text': 'Unbefugtes Eindringen in Räumlichkeiten'}, {'handle': 'G 0.45', 'text': 'Datenverlust'}, {'handle': 'G 0.46', 'text': 'Integritätsverlust schützenswerter Informationen'}, {'handle': 'G 0.47', 'text': 'Schädliche Seiteneffekte IT-gestützter Angriffe'}]"
   ]
  },
  {
   "cell_type": "markdown",
   "metadata": {},
   "source": [
    "Laden benötigter Importe "
   ]
  },
  {
   "cell_type": "code",
   "execution_count": 16,
   "metadata": {
    "ExecuteTime": {
     "end_time": "2024-07-29T13:26:05.599069Z",
     "start_time": "2024-07-29T13:26:05.594611Z"
    }
   },
   "outputs": [],
   "source": [
    "import base64, json\n",
    "import pandas as pd\n",
    "import vertexai\n",
    "from vertexai.generative_models import GenerativeModel, Part, FinishReason\n",
    "import vertexai.preview.generative_models as generative_models\n",
    "import os \n",
    "import fileinput\n",
    "import re\n",
    "from owlready2 import *\n",
    "import logging\n",
    "from rapidfuzz import fuzz"
   ]
  },
  {
   "cell_type": "markdown",
   "metadata": {},
   "source": [
    "Hier bitte alle persönlichen benötigten Variablen abspeichern: \n",
    "- Vertex project id\n",
    "- Pfad zur Kreuzreferenztabelle \n",
    "- Pfad zur Liste mit den Links zu den Bausteinen im Google Cloud Bucket. \n",
    "- Link zum Storage Bucket für zwischenergebnisse."
   ]
  },
  {
   "cell_type": "code",
   "execution_count": 17,
   "metadata": {
    "ExecuteTime": {
     "end_time": "2024-07-29T13:26:05.646414Z",
     "start_time": "2024-07-29T13:26:05.642078Z"
    }
   },
   "outputs": [],
   "source": [
    "projectid = \"gen-lang-client-0489091220\"\n",
    "path_to_excel_file = r'C:\\Users\\marcr\\Downloads\\krt2023_Excel.xlsx'\n",
    "file_path = \"example copy.txt\"\n",
    "storage_bucket = \"gs://bausteinebsi/\""
   ]
  },
  {
   "cell_type": "markdown",
   "metadata": {},
   "source": [
    "In der **generate()** Funktion wird das Dictionary das die Inhalte aus dem Grundschutzkompendium erhält durch Gemini erstellt. Das Modell wird dabei zuerst konfiguriert und danach die Prompts gespeichert, da es zu Problemen durch Rezitation oder als gefährlich eingestufter Inhalte gibt gibt es zwei Versionen der Prompt, eine die die Beschreibungen enthält und im ersten Durchlauf des Prozesses abgerufen wird und eine die diese nicht mehr enthält. Die Form des Dictionaires wird dabei in den Prompts definiert, durch Abwandelung dieser wird es auch möglich andere Quellen ein zu lesen. Die Antworten der API werden dann aufbereitet. "
   ]
  },
  {
   "cell_type": "code",
   "execution_count": 18,
   "metadata": {
    "ExecuteTime": {
     "end_time": "2024-07-29T13:26:05.710626Z",
     "start_time": "2024-07-29T13:26:05.696430Z"
    }
   },
   "outputs": [],
   "source": [
    "def generate(path, failed=False):\n",
    "        vertexai.init(project = projectid, location=\"northamerica-northeast1\")\n",
    "\n",
    "        model = GenerativeModel(\n",
    "            \"gemini-1.5-flash-001\",\n",
    "        )\n",
    "        if not failed:\n",
    "          prompt_extract1 = \"\"\"You are an ontology assistant tasked with extracting core information from a single chapter of a German cybersecurity recommendation book. Your focus is on accurately identifying and establishing the relationships between elements.\n",
    "\n",
    "                            **Extremely Important:**  \n",
    "\n",
    "                            * **For fields with specific allowed values, ensure you ONLY use those values. Do not invent or guess values.**\n",
    "                            * **The JSON output must be valid and ready for parsing. Do not include any extra formatting or explanations.**\n",
    "\n",
    "                            **The Source Material:**\n",
    "\n",
    "                            * You will be provided with a single chapter, which should be treated as one \"Asset\" in the JSON.\n",
    "\n",
    "                            **Extraction Rules:**\n",
    "\n",
    "                            1. **Identify Asset:**\n",
    "                              - The chapter's main heading is the name of the Asset.\n",
    "                              - The Asset \"handle\" is the first part of the subheading (e.g., \"SYS.1.6\").\n",
    "                              - The Asset \"text\" is a summary of the description of the asset, found in the paragraph under the \"Beschreibung\" heading. \n",
    "\n",
    "                            2. **Identify Vulnerabilities:**\n",
    "                              - Locate subheadings directly under the section titled \"Gefährdungslage.\" These are the Vulnerabilities. \n",
    "                              - The Vulnerability \"handle\" is the first part of the subheading.\n",
    "                              - The Vulnerability \"name\" is the remaining text of the subheading.\n",
    "                              - The Vulnerability \"text\" is a summary of the text below the subheading describing the vulnerability.\n",
    "\n",
    "                            3. **Identify Example Threats (For Each Vulnerability):**\n",
    "                              - Within each Vulnerability section, find paragraphs that describe Threats exploiting that Vulnerability.\n",
    "                              - The \"text\" is a summary of the text describing the example threat.\n",
    "                              - **Optional Information (If Present in the Text):**\n",
    "                                - **Threat Origin:** \"human\" or \"natural\". \n",
    "                                - **Threat Source:** \"deliberate\" or \"accidental\". \n",
    "\n",
    "                            **Output JSON Structure:**\n",
    "\n",
    "                            ```json\n",
    "                            {\n",
    "                              \"Informationsource\": \"BSI GSK 2023\",\n",
    "                              \"name\": \"[Asset Name]\",\n",
    "                              \"handle\": \"[Asset Handle]\",\n",
    "                              \"text\": \"[Asset Description]\",\n",
    "                              \"vulnerableTo\": [\n",
    "                                {\n",
    "                                  \"type\": \"specific\",\n",
    "                                  \"Informationsource\": \"BSI GSK 2023\",\n",
    "                                  \"name\": \"[Vulnerability Name]\",\n",
    "                                  \"handle\": \"[Vulnerability Handle]\",\n",
    "                                  \"text\": \"[Vulnerability Description]\",\n",
    "                                  \"exploitedBy_examples\": [\n",
    "                                    {\n",
    "                                      \"Informationsource\": \"BSI GSK 2023\",\n",
    "                                      \"name\": \"[Threat Name]\", \n",
    "                                      \"type\": \"Threat\",\n",
    "                                      \"text\": \"[Threat Description]\",\n",
    "                                      \"hasOrigin\": [\n",
    "                                        \"[ThreatOrigin]\", \n",
    "                                        ...\n",
    "                                      ], // Optional: \"human\", \"natural\", or both\n",
    "                                      \"hasSource\": [\n",
    "                                        \"[ThreatSource]\",\n",
    "                                        ...\n",
    "                                      ] // Optional: \"deliberate\", \"accidental\", or both\n",
    "                                    },\n",
    "                                    ... \n",
    "                                  ],\n",
    "                                  \"mitigatedBy\": [ \n",
    "                                    \"[Control Handle 1]\",\n",
    "                                    \"[Control Handle 2]\",\n",
    "                                    ... \n",
    "                                  ] \n",
    "                                },\n",
    "                                // ... More Vulnerabilities ...\n",
    "                              ]\n",
    "                            }\n",
    "                                \"\"\"\n",
    "        \n",
    "          prompt_extract2 = \"\"\"\n",
    "              You are an ontology assistant tasked with extracting control information from a single chapter of a German cybersecurity recommendation book. Your focus is on accurately identifying and establishing the relationships between elements.\n",
    "\n",
    "                **Extremely Important:**  \n",
    "\n",
    "                * **For fields with specific allowed values, ensure you ONLY use those values. Do not invent or guess values.**\n",
    "                * **The JSON output must be valid and ready for parsing. Do not include any extra formatting or explanations.**\n",
    "\n",
    "                **The Source Material:**\n",
    "\n",
    "                * You will be provided with a single chapter, which should be treated as one \"Asset\" in the JSON. \n",
    "\n",
    "                **Extraction Rules:**\n",
    "\n",
    "                1. **Identify Controls (For Each Vulnerability):**\n",
    "                  - Within each Vulnerability section, extract subheadings from these sections to identify relevant Controls:\n",
    "                    - \"Basis Anforderungen\" (Low-Level Controls)\n",
    "                    - \"Standard Anforderungen\" (Medium-Level Controls)\n",
    "                    - \"Anforderungen bei erhöhtem Schutzbedarf\" (High-Level Controls)\n",
    "                  - **Important:** Skip subheadings that contain the word \"entfallen.\"\n",
    "                  - The Control \"handle\" is the first part of the subheading (e.g., \"SYS.1.6.A2\").\n",
    "                  - The Control \"name\" is the remaining text of the subheading.\n",
    "                  - The Control \"text\" is the description of the control.\n",
    "                  - The Control \"isresponsible\" is the responsible entity for the control, Optional: if mentioned it can be found in [] in the control heading.\n",
    "\n",
    "                **Output JSON Structure:**\n",
    "\n",
    "                ```json\n",
    "                {\n",
    "                  \"Controls\": [ \n",
    "                    {\n",
    "                      \"Informationsource\": \"BSI GSK 2023\",\n",
    "                      \"name\": \"[Control Name 1]\",\n",
    "                      \"handle\": \"[Control Handle 1]\",\n",
    "                      \"level\": \"[Low | Medium | High]\",\n",
    "                      \"affects\": [], // Optional: \"Availability\", \"Confidentiality\", and/or \"Integrity\" ,\n",
    "                      \"text\": \"[Control Description]\", \n",
    "                      \"isresponsible\": \"[Control Responsible Entity]\" \n",
    "\n",
    "                    },\n",
    "                    // ... More Controls ...\n",
    "                  ]\n",
    "                }\n",
    "                ```\n",
    "\n",
    "                **Provide the JSON output directly. Do not include any additional text or explanations.** \n",
    "        \"\"\"\n",
    "        else: \n",
    "          prompt_extract1 = \"\"\"You are an ontology assistant tasked with extracting core information from a single chapter of a German cybersecurity recommendation book. Your focus is on accurately identifying and establishing the relationships between elements.\n",
    "\n",
    "                            **Extremely Important:**  \n",
    "\n",
    "                            * **For fields with specific allowed values, ensure you ONLY use those values. Do not invent or guess values.**\n",
    "                            * **The JSON output must be valid and ready for parsing. Do not include any extra formatting or explanations.**\n",
    "\n",
    "                            **The Source Material:**\n",
    "\n",
    "                            * You will be provided with a single chapter, which should be treated as one \"Asset\" in the JSON.\n",
    "\n",
    "                            **Extraction Rules:**\n",
    "\n",
    "                            1. **Identify Asset:**\n",
    "                              - The chapter's main heading is the name of the Asset.\n",
    "                              - The Asset \"handle\" is the first part of the subheading (e.g., \"SYS.1.6\").\n",
    "\n",
    "                            2. **Identify Vulnerabilities:**\n",
    "                              - Locate subheadings directly under the section titled \"Gefährdungslage.\" These are the Vulnerabilities. \n",
    "                              - The Vulnerability \"handle\" is the first part of the subheading.\n",
    "                              - The Vulnerability \"name\" is the remaining text of the subheading.\n",
    "\n",
    "                            3. **Identify Example Threats (For Each Vulnerability):**\n",
    "                              - Within each Vulnerability section, find paragraphs that describe Threats exploiting that Vulnerability.\n",
    "                              - **Optional Information (If Present in the Text):**\n",
    "                                - **Threat Origin:** \"human\" or \"natural\". \n",
    "                                - **Threat Source:** \"deliberate\" or \"accidental\". \n",
    "\n",
    "                            **Output JSON Structure:**\n",
    "\n",
    "                            ```json\n",
    "                            {\n",
    "                              \"Informationsource\": \"BSI GSK 2023\",\n",
    "                              \"name\": \"[Asset Name]\",\n",
    "                              \"handle\": \"[Asset Handle]\",\n",
    "                              \"vulnerableTo\": [\n",
    "                                {\n",
    "                                  \"type\": \"specific\",\n",
    "                                  \"Informationsource\": \"BSI GSK 2023\",\n",
    "                                  \"name\": \"[Vulnerability Name]\",\n",
    "                                  \"handle\": \"[Vulnerability Handle]\",\n",
    "                                  \"exploitedBy_examples\": [\n",
    "                                    {\n",
    "                                      \"Informationsource\": \"BSI GSK 2023\",\n",
    "                                      \"name\": \"[Threat Name]\", \n",
    "                                      \"type\": \"Threat\",\n",
    "                                      \"hasOrigin\": [\n",
    "                                        \"[ThreatOrigin]\", \n",
    "                                        ...\n",
    "                                      ], // Optional: \"human\", \"natural\", or both\n",
    "                                      \"hasSource\": [\n",
    "                                        \"[ThreatSource]\",\n",
    "                                        ...\n",
    "                                      ] // Optional: \"deliberate\", \"accidental\", or both\n",
    "                                    },\n",
    "                                    ... \n",
    "                                  ],\n",
    "                                  \"mitigatedBy\": [ \n",
    "                                    \"[Control Handle 1]\",\n",
    "                                    \"[Control Handle 2]\",\n",
    "                                    ... \n",
    "                                  ] \n",
    "                                },\n",
    "                                // ... More Vulnerabilities ...\n",
    "                              ]\n",
    "                            }\n",
    "                                \"\"\"\n",
    "        \n",
    "          prompt_extract2 = \"\"\"\n",
    "              You are an ontology assistant tasked with extracting control information from a single chapter of a German cybersecurity recommendation book. Your focus is on accurately identifying and establishing the relationships between elements.\n",
    "\n",
    "                **Extremely Important:**  \n",
    "\n",
    "                * **For fields with specific allowed values, ensure you ONLY use those values. Do not invent or guess values.**\n",
    "                * **The JSON output must be valid and ready for parsing. Do not include any extra formatting or explanations.**\n",
    "\n",
    "                **The Source Material:**\n",
    "\n",
    "                * You will be provided with a single chapter, which should be treated as one \"Asset\" in the JSON. \n",
    "\n",
    "                **Extraction Rules:**\n",
    "\n",
    "                1. **Identify Controls (For Each Vulnerability):**\n",
    "                  - Within each Vulnerability section, extract subheadings from these sections to identify relevant Controls:\n",
    "                    - \"Basis Anforderungen\" (Low-Level Controls)\n",
    "                    - \"Standard Anforderungen\" (Medium-Level Controls)\n",
    "                    - \"Anforderungen bei erhöhtem Schutzbedarf\" (High-Level Controls)\n",
    "                  - **Important:** Skip subheadings that contain the word \"entfallen.\"\n",
    "                  - The Control \"handle\" is the first part of the subheading (e.g., \"SYS.1.6.A2\").\n",
    "                  - The Control \"name\" is the remaining text of the subheading.\n",
    "                  - The Control \"isresponsible\" is the responsible entity for the control, Optional: if mentioned it can be found in [] in the control heading.\n",
    "\n",
    "                **Output JSON Structure:**\n",
    "\n",
    "                ```json\n",
    "                {\n",
    "                  \"Controls\": [ \n",
    "                    {\n",
    "                      \"Informationsource\": \"BSI GSK 2023\",\n",
    "                      \"name\": \"[Control Name 1]\",\n",
    "                      \"handle\": \"[Control Handle 1]\",\n",
    "                      \"level\": \"[Low | Medium | High]\",\n",
    "                      \"affects\": [], // Optional: \"Availability\", \"Confidentiality\", and/or \"Integrity\",\n",
    "                      \"isresponsible\": \"[Control Responsible Entity]\" \n",
    "                    },\n",
    "                    // ... More Controls ...\n",
    "                  ]\n",
    "                }\n",
    "                ```\n",
    "\n",
    "                **Provide the JSON output directly. Do not include any additional text or explanations.** \n",
    "        \"\"\"      \n",
    "        document1 = Part.from_uri(\n",
    "        mime_type=\"application/pdf\",\n",
    "        uri=path)\n",
    "    \n",
    "\n",
    "        generation_config = {\n",
    "            \"top_p\": 0.95,\n",
    "            \"temperature\": 0.1\n",
    "        }\n",
    "\n",
    "        safety_settings = {\n",
    "            generative_models.HarmCategory.HARM_CATEGORY_HATE_SPEECH: generative_models.HarmBlockThreshold.BLOCK_ONLY_HIGH,\n",
    "            generative_models.HarmCategory.HARM_CATEGORY_DANGEROUS_CONTENT: generative_models.HarmBlockThreshold.BLOCK_ONLY_HIGH,\n",
    "            generative_models.HarmCategory.HARM_CATEGORY_SEXUALLY_EXPLICIT: generative_models.HarmBlockThreshold.BLOCK_ONLY_HIGH,\n",
    "            generative_models.HarmCategory.HARM_CATEGORY_HARASSMENT: generative_models.HarmBlockThreshold.BLOCK_ONLY_HIGH,\n",
    "        }\n",
    "        \n",
    "        response1 = model.generate_content(\n",
    "            [document1, prompt_extract1],\n",
    "            generation_config=generation_config,\n",
    "            safety_settings=safety_settings,\n",
    "            #stream=True,\n",
    "        )\n",
    "        response1_txt = response1.text.replace(\"`json\", \"\").replace(\"`\", \"\")\n",
    "        response2 = model.generate_content(\n",
    "            [document1, prompt_extract2],\n",
    "            generation_config=generation_config,\n",
    "            safety_settings=safety_settings,\n",
    "            #stream=True,\n",
    "        )\n",
    "\n",
    "        response2_txt = response2.text.replace(\"`json\", \"\").replace(\"`\", \"\")\n",
    "        return [response1.usage_metadata, response1_txt, response2.usage_metadata, response2_txt]"
   ]
  },
  {
   "cell_type": "markdown",
   "metadata": {},
   "source": [
    "Die **llm_output_to_json()** Funktion bereitet den Ouput der generate Funktion auf, encoded und decoded und speichert das Ergebnis in dem neu erstellten Ordner working_files ab. Dadurch kann bei Fehlern in den nächsten Prozessschritten auf diese Dateien zurückgegriffen werden und so der rechenaufwändige Schritt der Erstellung vermieden werden. "
   ]
  },
  {
   "cell_type": "code",
   "execution_count": 19,
   "metadata": {
    "ExecuteTime": {
     "end_time": "2024-07-29T13:26:05.732580Z",
     "start_time": "2024-07-29T13:26:05.726638Z"
    }
   },
   "outputs": [],
   "source": [
    "def llm_output_to_json(output_data):\n",
    "    output_json = json.loads(output_data[1])\n",
    "    output_json.update(json.loads(output_data[3]))\n",
    "    working_dir = os.getcwd()  # Get current working directory\n",
    "    output_folder = os.path.join(working_dir, \"working_files\")\n",
    "    os.makedirs(output_folder, exist_ok=True) \n",
    "    output_file = os.path.join(output_folder, f\"{output_json['name']}.txt\")  # Assuming \"name\" is in the JSON\n",
    "    # Save the JSON file\n",
    "    with open(output_file, \"w\", encoding='utf-8') as output_file:\n",
    "        output_file.write(output_data[1].join(output_data[3]))\n",
    "        print(f\"Txt file saved: {output_file}\")\n",
    "    return output_json\n"
   ]
  },
  {
   "cell_type": "markdown",
   "metadata": {},
   "source": [
    "**read_excel_sheet()** gibt das entsprechende Blatt zum angefragten Baustein als Dataframe zurück"
   ]
  },
  {
   "cell_type": "code",
   "execution_count": 20,
   "metadata": {
    "ExecuteTime": {
     "end_time": "2024-07-29T13:26:05.794368Z",
     "start_time": "2024-07-29T13:26:05.790591Z"
    }
   },
   "outputs": [],
   "source": [
    "def read_excel_sheet(sheet_name, file_path = path_to_excel_file):\n",
    "  sheet_name = \"KRT_\" + sheet_name + \".xlsx\"  # Remove any spaces from the sheet name\n",
    "  df = pd.read_excel(file_path, sheet_name=sheet_name)\n",
    "  return df"
   ]
  },
  {
   "cell_type": "markdown",
   "metadata": {},
   "source": [
    "**populate_json_with_excel_data()** liest die Kreuzrefferenztabelle eines Bausteinsaus und fügt die Ergebnisse dem Dictionary des entsprechenden Bausteins hinzu, die Ergebnisse überschreiben die zugehörige JSON Datei in working_files als Zwischenspeicher"
   ]
  },
  {
   "cell_type": "code",
   "execution_count": 21,
   "metadata": {
    "ExecuteTime": {
     "end_time": "2024-07-29T13:26:05.827828Z",
     "start_time": "2024-07-29T13:26:05.820380Z"
    }
   },
   "outputs": [],
   "source": [
    "def populate_json_with_excel_data(json_data, dataframe):\n",
    "    for control in json_data[\"Controls\"]:\n",
    "        control[\"affects\"] = []  # \n",
    "        control_handle = control[\"handle\"]\n",
    "        row = dataframe.loc[dataframe[json_data[\"handle\"]] == control_handle]\n",
    "        row_cia_value = row[\"CIA\"].tolist()[0] if len(row[\"CIA\"].tolist()) > 0 else []  # Get the \"CIA\" value from the row\n",
    "        x_indices = []\n",
    "        count = 0\n",
    "        try:\n",
    "            for value in row.values[0]:\n",
    "                if value == \"X\":\n",
    "                    x_indices.append(count)\n",
    "                count += 1\n",
    "            Gefahren = [dataframe.iloc[:, index].name for index in x_indices]\n",
    "            control[\"mitigates\"] = Gefahren\n",
    "        except Exception as e:\n",
    "            logging.error(f\"Appending Gefahren failed due to {e}\")\n",
    "        if type(row_cia_value) == str:\n",
    "            control[\"affects\"] = row_cia_value.split() if len(row_cia_value) > 0 else []\n",
    "        \n",
    "\n",
    "    \n",
    "    #correct for mitigatedBy until now\n",
    "    for vulnerability in json_data[\"vulnerableTo\"]:\n",
    "        vulnerability[\"mitigatedBy\"] = []\n",
    "\n",
    "    working_dir = os.getcwd()  # Get current working directory\n",
    "    output_folder = os.path.join(working_dir, \"working_files\")\n",
    "    os.makedirs(output_folder, exist_ok=True) \n",
    "\n",
    "    # Construct the JSON file path within the \"working_files\" folder\n",
    "    output_file = os.path.join(output_folder, f\"{json_data['name']}.json\")  # Assuming \"name\" is in the JSON\n",
    "    # Save the JSON file\n",
    "    with open(output_file, \"w\", encoding='utf-8') as outfile:\n",
    "        json.dump(json_data, outfile, indent=4, ensure_ascii=False)  # Use indent for pretty formatting\n",
    "    return json_data"
   ]
  },
  {
   "cell_type": "markdown",
   "metadata": {},
   "source": [
    "**read_links_to_array()** liest die Links aus dem Bucket ein und stellt sie für nachfolgende Funktionen zur Verfügung. Bitte Überprüfe ob deine Links um Output der nachfolgenden Zelle angezeigt werden."
   ]
  },
  {
   "cell_type": "code",
   "execution_count": 22,
   "metadata": {
    "ExecuteTime": {
     "end_time": "2024-07-29T13:26:05.898571Z",
     "start_time": "2024-07-29T13:26:05.890842Z"
    }
   },
   "outputs": [
    {
     "name": "stdout",
     "output_type": "stream",
     "text": [
      "['gs://bausteinebsi/APP_1_1_Office_Produkte_Edition_2023.pdf', 'gs://bausteinebsi/APP_1_2_Webbrowser_Edition_2023.pdf', 'gs://bausteinebsi/APP_1_4_Mobile_Anwendungen_Edition_2023.pdf', 'gs://bausteinebsi/APP_2_1_Allgemeiner_Verzeichnisdienst_Edition_2023.pdf', 'gs://bausteinebsi/APP_2_2_Active_Directory_Domain_Services_Edition_2023.pdf', 'gs://bausteinebsi/APP_2_3_OpenLDAP_Edition_2023.pdf', 'gs://bausteinebsi/APP_3_1_Webanwendungen_und_Webservices_Edition_2023.pdf', 'gs://bausteinebsi/APP_3_2_Webserver_Edition_2023.pdf', 'gs://bausteinebsi/APP_3_3_Fileserver_Edition_2023.pdf', 'gs://bausteinebsi/APP_3_4_Samba_Edition_2023.pdf', 'gs://bausteinebsi/APP_3_6_DNS_Server_Edition_2023.pdf', 'gs://bausteinebsi/APP_4_2_SAP_ERP_System_Edition_2023.pdf', 'gs://bausteinebsi/APP_4_3_Relationale_Datenbanksysteme_Edition_2023.pdf', 'gs://bausteinebsi/APP_4_4_Kubernetes_Edition_2023.pdf', 'gs://bausteinebsi/APP_4_6_SAP_ABAP_Programmierung_Edition_2023.pdf', 'gs://bausteinebsi/APP_5_2_Microsoft_Exchange_und_Outlook_Edition_2023.pdf', 'gs://bausteinebsi/APP_5_3_Allgemeiner_E-Mail_Client_und_Server_Edition_2023.pdf', 'gs://bausteinebsi/APP_5_4_Unified_Communications_und_Collaboration_Edition_2023.pdf', 'gs://bausteinebsi/APP_6_Allgemeine_Software_Edition_2023.pdf', 'gs://bausteinebsi/APP_7_Entwicklung_von_Individualsoftware_Edition_2023.pdf', 'gs://bausteinebsi/CON_10_Entwicklung_von_Webanwendungen_Edition_2023.pdf', 'gs://bausteinebsi/CON_11_1_Geheimschutz_Edition_2023.pdf', 'gs://bausteinebsi/CON_1_Kryptokonzept_Edition_2023.pdf', 'gs://bausteinebsi/CON_2_Datenschutz_Edition_2023.pdf', 'gs://bausteinebsi/CON_3_Datensicherungskonzept_Edition_2023.pdf', 'gs://bausteinebsi/CON_6_Loeschen_und_Vernichten_Edition_2023.pdf', 'gs://bausteinebsi/CON_7_Informationssicherheit_auf_Auslandsreisen_Edition_2023.pdf', 'gs://bausteinebsi/CON_8_Software_Entwicklung_Edition_2023.pdf', 'gs://bausteinebsi/CON_9_Informationsaustausch_Edition_2023.pdf', 'gs://bausteinebsi/DER_1_Detektion_von_sicherheitsrelevanten_Ereignissen_Edition_2023.pdf', 'gs://bausteinebsi/DER_2_1_Behandlung_von_Sicherheitsvorfaellen_Edition_2023.pdf', 'gs://bausteinebsi/DER_2_2_Vorsorge_fuer_die_IT_Forensik_2023.pdf', 'gs://bausteinebsi/DER_2_3_Bereinigung_weitreichender_Sicherheitsvorfaelle_Edition_2023.pdf', 'gs://bausteinebsi/DER_3_1_Audits_und_Revisionen_Edition_2023.pdf', 'gs://bausteinebsi/DER_3_2_Revisionen_auf_Basis_des_Leitfadens_IS_Revision_Edition_2023.pdf', 'gs://bausteinebsi/DER_4_Notfallmanagement_Edition_2023.pdf', 'gs://bausteinebsi/IND_1_Prozessleit_und_Automatisierungstechnik_Edition_2023.pdf', 'gs://bausteinebsi/IND_2_1_Allgemeine_ICS_Komponente_Edition_2023.pdf', 'gs://bausteinebsi/IND_2_2_Speicherprogrammierbare_Steuerung_Edition_2023.pdf', 'gs://bausteinebsi/IND_2_3_Sensoren_und_Aktoren_Edition_2023.pdf', 'gs://bausteinebsi/IND_2_4_Maschine_Edition_2023.pdf', 'gs://bausteinebsi/IND_2_7_Safety_Instrumented_Systems_Edition_2023.pdf', 'gs://bausteinebsi/IND_3_2_Fernwartung_im_industriellen_Umfeld_Edition_2023.pdf', 'gs://bausteinebsi/INF_10_Besprechungs_Veranstaltungs_und_Schulungsraeume_Edition_2023.pdf', 'gs://bausteinebsi/INF_11_Allgemeines_Fahrzeug_2023.pdf', 'gs://bausteinebsi/INF_12_Verkabelung_2023.pdf', 'gs://bausteinebsi/INF_13_Technisches_Gebaeudemanagement_Edition_2023.pdf', 'gs://bausteinebsi/INF_14_Gebaeudeautomation_Edition_2023.pdf', 'gs://bausteinebsi/INF_1_Allgemeines_Gebaeude_Edition_2023.pdf', 'gs://bausteinebsi/INF_2_Rechenzentrum_sowie_Serverraum_Edition_2023.pdf', 'gs://bausteinebsi/INF_5_Raum_sowie_Schrank_fuer_technische_Infrastruktur_Edition_2023.pdf', 'gs://bausteinebsi/INF_6_Datentraegerarchiv_Edition_2023.pdf', 'gs://bausteinebsi/INF_7_Bueroarbeitsplatz_Edition_2023.pdf', 'gs://bausteinebsi/INF_8_Haeuslicher_Arbeitsplatz_Edition_2023.pdf', 'gs://bausteinebsi/INF_9_IT_Mobiler_Arbeitsplatz_Edition_2023.pdf', 'gs://bausteinebsi/ISMS_1_Sicherheitsmanagement_Edition_2023.pdf', 'gs://bausteinebsi/NET_1_1_Netzarchitektur_und_design_Edition_2023.pdf', 'gs://bausteinebsi/NET_1_2_Netzmanagement_Edition_2023.pdf', 'gs://bausteinebsi/NET_2_1_WLAN_Betrieb_Edition_2023.pdf', 'gs://bausteinebsi/NET_2_2_WLAN_Nutzung_Edition_2023.pdf', 'gs://bausteinebsi/NET_3_1_Router_und_Switches_Edition_2023.pdf', 'gs://bausteinebsi/NET_3_2_Firewall_Edition_2023.pdf', 'gs://bausteinebsi/NET_3_3_VPN_Edition_2023.pdf', 'gs://bausteinebsi/NET_3_4_Network_Access_Control_Edition_2023.pdf', 'gs://bausteinebsi/NET_4_1_TK_Anlagen_Edition_2023.pdf', 'gs://bausteinebsi/NET_4_2_VoIP_Edition_2023.pdf', 'gs://bausteinebsi/NET_4_3_Faxgeraete_und_Faxserver_Edition_2023.pdf', 'gs://bausteinebsi/OPS_1_1_1_Allgemeiner_IT_Betrieb_Edition_2023.pdf', 'gs://bausteinebsi/OPS_1_1_2_Ordnungsgemaesse_IT_Administration_Edition_2023.pdf', 'gs://bausteinebsi/OPS_1_1_3_Patch_und_Aenderungsmanagement_Edition_2023.pdf', 'gs://bausteinebsi/OPS_1_1_4_Schutz_vor_Schadprogrammen_Edition_2023.pdf', 'gs://bausteinebsi/OPS_1_1_5_Protokollierung_Edition_2023.pdf', 'gs://bausteinebsi/OPS_1_1_6_Software_Tests_und_Freigaben_Edition_2023.pdf', 'gs://bausteinebsi/OPS_1_1_7_Systemmanagement_Edition_2023.pdf', 'gs://bausteinebsi/OPS_1_2_2_Archivierung_Edition_2023.pdf', 'gs://bausteinebsi/OPS_1_2_4_Telearbeit_Edition_2023.pdf', 'gs://bausteinebsi/OPS_1_2_5_Fernwartung_Edition_2023.pdf', 'gs://bausteinebsi/OPS_1_2_6_NTP_Zeitsynchronisation_Edition_2023.pdf', 'gs://bausteinebsi/OPS_2_2_Cloud-Nutzung_Edition_2023.pdf', 'gs://bausteinebsi/OPS_2_3_Nutzung_von_Outsourcing_Edition_2023.pdf', 'gs://bausteinebsi/OPS_3_2_Anbieten_von_Outsourcing_Edition_2023.pdf', 'gs://bausteinebsi/ORP_1_Organisation_Edition_2023.pdf', 'gs://bausteinebsi/ORP_2_Personal_Editon_2023.pdf', 'gs://bausteinebsi/ORP_3_Sensibilisierung_und_Schulung_Editon_2023.pdf', 'gs://bausteinebsi/ORP_4_Identitaets_und_Berechtigungsmanagement_Editon_2023.pdf', 'gs://bausteinebsi/ORP_5_Compliance_Management_Editon_2023.pdf', 'gs://bausteinebsi/SYS_1_1_Allgemeiner_Server_Edition_2023.pdf', 'gs://bausteinebsi/SYS_1_3_Server_unter_Linux_und_Unix_Edition_2023.pdf', 'gs://bausteinebsi/SYS_1_5_Virtualisierung_Edition_2023.pdf', 'gs://bausteinebsi/SYS_1_6_Containerisierung_Edition_2023.pdf', 'gs://bausteinebsi/SYS_1_7_IBM_Z_Edition_2023.pdf', 'gs://bausteinebsi/SYS_1_8_Speicherloesungen_Edition_2023.pdf', 'gs://bausteinebsi/SYS_1_9_Terminalserver_Edition_2023.pdf', 'gs://bausteinebsi/SYS_2_1_Allgemeiner_Client_Edition_2023.pdf', 'gs://bausteinebsi/SYS_2_2_3_Clients_unter_Windows_Edition_2023.pdf', 'gs://bausteinebsi/SYS_2_3_Clients_unter_Linux_und_Unix_Edition_2023.pdf', 'gs://bausteinebsi/SYS_2_4_Clients_unter_macOS_Edition_2023.pdf', 'gs://bausteinebsi/SYS_2_5_Client_Virtualisierung_Edition_2023.pdf', 'gs://bausteinebsi/SYS_2_6_Virtual_Desktop_Infrastructure_Edition_2023.pdf', 'gs://bausteinebsi/SYS_3_1_Laptops_Edition_2023.pdf', 'gs://bausteinebsi/SYS_3_2_1_Allgemeine_Smartphones_und_Tablets_Edition_2023.pdf', 'gs://bausteinebsi/SYS_3_2_2_Mobile_Device_Management_Edition_2023.pdf', 'gs://bausteinebsi/SYS_3_2_3_iOS_for_Enterprise_2023.pdf', 'gs://bausteinebsi/SYS_3_2_4_Android_Edition_2023.pdf', 'gs://bausteinebsi/SYS_3_3_Mobiltelefon_Edition_2023.pdf', 'gs://bausteinebsi/SYS_4_1_Drucker_Kopierer_und_Multifunktionsgeraete_Edition_2023.pdf', 'gs://bausteinebsi/SYS_4_3_Eingebettete_Systeme_Edition_2023.pdf', 'gs://bausteinebsi/SYS_4_4_Allgemeines_IoT_Geraet_Edition_2023.pdf', 'gs://bausteinebsi/SYS_4_5_Wechseldatentraeger_Edition_2023.pdf']\n"
     ]
    }
   ],
   "source": [
    "def read_links_to_array(file_path):\n",
    "    with open(file_path, 'r') as file:\n",
    "        links = file.read().splitlines()  # Read lines, remove newline characters\n",
    "    return links\n",
    "\n",
    "# Example usage:\n",
    "links_array = read_links_to_array(file_path)\n",
    "print(links_array)  # Output: ['https://example.com/1', 'https://example.com/2', 'https://example.com/3']"
   ]
  },
  {
   "cell_type": "markdown",
   "metadata": {},
   "source": [
    "**load_json_files()** Wird dazu verwendet um die Zwischenergebnisse aus \"working_files\" falls benötigt zu laden."
   ]
  },
  {
   "cell_type": "code",
   "execution_count": 23,
   "metadata": {
    "ExecuteTime": {
     "end_time": "2024-07-29T13:26:05.961376Z",
     "start_time": "2024-07-29T13:26:05.955581Z"
    }
   },
   "outputs": [],
   "source": [
    "def load_json_files(file_paths):\n",
    "    json_data = {}\n",
    "    for file_path in file_paths:\n",
    "        with open(file_path) as file:\n",
    "            json_variable = json.load(file)\n",
    "            filename = os.path.basename(file_path).replace(\".json\", \"\")  # Get filename without the path\n",
    "            json_data[filename] = json_variable\n",
    "    return json_data"
   ]
  },
  {
   "cell_type": "markdown",
   "metadata": {},
   "source": [
    "**modify_filename()** ist eine Hilfsfunktion die benötigt wird um die entsprechenden Datein aus dem Zwischenspeicher auf zu rufen. "
   ]
  },
  {
   "cell_type": "code",
   "execution_count": 24,
   "metadata": {
    "ExecuteTime": {
     "end_time": "2024-07-29T13:26:06.070893Z",
     "start_time": "2024-07-29T13:26:06.065386Z"
    }
   },
   "outputs": [],
   "source": [
    "def modify_filename(filename):\n",
    "    # Remove \"_Edition_2023.pdf\" suffix\n",
    "    filename = filename.replace(\"_Edition_2023.pdf\", \"\").replace(storage_bucket, \"\")  # Remove suffix\n",
    "\n",
    "    # Split remaining string by underscores\n",
    "    parts = filename.split(\"_\")  \n",
    "\n",
    "    # Join first two parts with a dot\n",
    "    modified_filename = parts[0] + \".\" + parts[1]  # Join first two with '.'\n",
    "\n",
    "    # Process remaining parts based on their type\n",
    "    for part in parts[2:]:\n",
    "        if part.isdigit():  # If part is a number, join with a dot\n",
    "            modified_filename += \".\" + part\n",
    "        else:  # If part is not a number (assumed to be a word), join with a space\n",
    "            modified_filename += \" \" + part\n",
    "\n",
    "    return modified_filename\n"
   ]
  },
  {
   "cell_type": "markdown",
   "metadata": {},
   "source": [
    "**load_json_from_link()** sucht aus zu einem gegebenen Link mit Hilfe der Funktionen *load_json_files* und *modify_filename* die Zwischenergebnisse zu Links und gibt deren Dictionaries zurück, um auf diese im Fall von Komplikationen zugreifen zu können."
   ]
  },
  {
   "cell_type": "code",
   "execution_count": 25,
   "metadata": {
    "ExecuteTime": {
     "end_time": "2024-07-29T13:26:06.119279Z",
     "start_time": "2024-07-29T13:26:06.111880Z"
    }
   },
   "outputs": [],
   "source": [
    "def load_json_from_link(link):\n",
    "    try: \n",
    "        link_text = modify_filename(link)\n",
    "        link_text = \" \".join(link_text.split(\" \")[1:]).lower()\n",
    "        subdirectory = 'working_files'  \n",
    "        file_paths = [os.path.join(subdirectory, f) for f in os.listdir(subdirectory) if f.endswith('.json')]\n",
    "        json_data = load_json_files(file_paths)\n",
    "        json_data_keys = list(json_data.keys())\n",
    "        threshold=70\n",
    "        best_match_key = None\n",
    "        best_match_ratio = 0\n",
    "        for key in json_data_keys:\n",
    "            normalized_key = key.lower().replace(\"-\", \" \")\n",
    "            ratio = fuzz.partial_ratio(link_text, normalized_key)\n",
    "            if ratio >= threshold and ratio > best_match_ratio:\n",
    "                best_match_key = key\n",
    "                best_match_ratio = ratio\n",
    "\n",
    "        if best_match_key is not None:\n",
    "            return json_data[best_match_key]\n",
    "        else:\n",
    "            logging.error(f\"Error loading JSON from link: No match found for link: {link}\")\n",
    "            return None\n",
    "    except Exception as e:\n",
    "        logging.error(f\"Error loading JSON from link: {e}\")\n",
    "        return None\n",
    "\n"
   ]
  },
  {
   "cell_type": "markdown",
   "metadata": {},
   "source": [
    "* **intiiere_Ontologie()** Intiiert die Klassen, Eigenschaften und Annotationen der Ontologie \n",
    "* **create_baustein()** Erweitert dann mit den aufbereiteten Informationen aus einem JSON Objekt die Ontologie. Dafür werden zuerst falls diese nicht schon vorhanden sind die Dictionary Dateien erstellt und dann in die Ontologie geladen. Wenn dabei die Erstellen einzelner Attribute fehlschlagen ist dies in den Logs zu finden und per Hand zu überprüfen. "
   ]
  },
  {
   "cell_type": "code",
   "execution_count": 26,
   "metadata": {
    "ExecuteTime": {
     "end_time": "2024-07-29T13:26:06.230895Z",
     "start_time": "2024-07-29T13:26:06.188291Z"
    }
   },
   "outputs": [],
   "source": [
    "def intiiere_Ontologie():\n",
    "    logging.info(\"Initializing ontology...\")\n",
    "    onto = get_ontology(\"http://test.org/cybersecurity_complete_v9.owl\")\n",
    "    with onto:\n",
    "        # Define classes\n",
    "        class Asset(Thing):\n",
    "            pass\n",
    "\n",
    "        class Vulnerability(Thing):\n",
    "            pass\n",
    "\n",
    "        class Threat_example(Thing):\n",
    "            pass\n",
    "\n",
    "        class Control(Thing):\n",
    "            pass\n",
    "        \n",
    "        class Attribute(Thing): \n",
    "            pass\n",
    "        \n",
    "        class InformationSource(Thing):\n",
    "            pass\n",
    "        # Define control level subclasses\n",
    "        class LowLevelControl(Control):\n",
    "            pass\n",
    "\n",
    "        class MediumLevelControl(Control):\n",
    "            pass\n",
    "\n",
    "        class HighLevelControl(Control):\n",
    "            pass\n",
    "        \n",
    "        # define \n",
    "\n",
    "            \n",
    "        class ExplicitVulnerability(Vulnerability):\n",
    "            pass\n",
    "        \n",
    "        class GeneralClassAxiomenericVulnerability(Vulnerability):\n",
    "            pass\n",
    "        \n",
    "        class ControlType(Attribute): \n",
    "            pass\n",
    "\n",
    "        class SecurityAttribute(Attribute): \n",
    "            pass\n",
    "\n",
    "        class ThreatOrigin(Attribute): \n",
    "            pass\n",
    "\n",
    "        class ThreatSource(Attribute): \n",
    "            pass\n",
    "        \n",
    "\n",
    "        # Define object properties\n",
    "        class implementedBy(Control >> Asset):\n",
    "            pass\n",
    "\n",
    "        class hasInformationSource(Thing >> InformationSource):\n",
    "            pass\n",
    "            \n",
    "        class vulnerableTo(Asset >> Vulnerability):\n",
    "            pass\n",
    "\n",
    "        class exploitedBy_exapmle(Vulnerability >> Threat_example):\n",
    "            pass\n",
    "\n",
    "        class mitigatedBy(Vulnerability >> Control):\n",
    "            pass\n",
    "        \n",
    "        class mitigates(Control >> Vulnerability):\n",
    "            pass\n",
    "\n",
    "        class hasOrigin(Threat_example >> ThreatOrigin): \n",
    "            pass\n",
    "        \n",
    "        class hasSource(Threat_example >> ThreatSource): \n",
    "            pass\n",
    "\n",
    "        class affects(Control >> SecurityAttribute): \n",
    "            pass  \n",
    "\n",
    "        class isresponsible(AnnotationProperty):\n",
    "            pass \n",
    "\n",
    "        class description(AnnotationProperty):\n",
    "            pass \n",
    "    logging.info(\"Ontology initialized successfully.\")\n",
    "    return onto\n",
    "def create_baustein (link, onto, failed=False):\n",
    "    #logging.info(f\"Processing baustein from link: {link}\")\n",
    "    generated = generate(link, failed)\n",
    "    try:\n",
    "        json_data = llm_output_to_json(generated)\n",
    "        logging.info(f\"Successfully generated JSON data from link: {link}\")\n",
    "    except Exception as e:\n",
    "        logging.error(f\"Failed to generate JSON data from link: {link}. Error: {e}\")\n",
    "        return onto\n",
    "    print(\"generating finished\")\n",
    "    json_data = populate_json_with_excel_data(json_data, read_excel_sheet(json_data[\"handle\"]))\n",
    "    GefahrenQuelle = [{'handle': 'G 0.1', 'text': 'Feuer'}, {'handle': 'G 0.2', 'text': 'Ungünstige klimatische Bedingungen'}, {'handle': 'G 0.3', 'text': 'Wasser'}, {'handle': 'G 0.4', 'text': 'Verschmutzung, Staub, Korrosion'}, {'handle': 'G 0.5', 'text': 'Naturkatastrophen'}, {'handle': 'G 0.6', 'text': 'Katastrophen im Umfeld'}, {'handle': 'G 0.7', 'text': 'Großereignisse im Umfeld'}, {'handle': 'G 0.8', 'text': 'Ausfall oder Störung der Stromversorgung'}, {'handle': 'G 0.9', 'text': 'Ausfall oder Störung von Kommunikationsnetzen'}, {'handle': 'G 0.10', 'text': 'Ausfall oder Störung von Versorgungsnetzen'}, {'handle': 'G 0.11', 'text': 'Ausfall oder Störung von Dienstleistungsunternehmen'}, {'handle': 'G 0.12', 'text': 'Elektromagnetische Störstrahlung'}, {'handle': 'G 0.13', 'text': 'Abfangen kompromittierender Strahlung'}, {'handle': 'G 0.14', 'text': 'Ausspähen von Informationen (Spionage)'}, {'handle': 'G 0.15', 'text': 'Abhören'}, {'handle': 'G 0.16', 'text': 'Diebstahl von Geräten, Datenträgern oder Dokumenten'}, {'handle': 'G 0.17', 'text': 'Verlust von Geräten, Datenträgern oder Dokumenten'}, {'handle': 'G 0.18', 'text': 'Fehlplanung oder fehlende Anpassung'}, {'handle': 'G 0.19', 'text': 'Offenlegung schützenswerter Informationen'}, {'handle': 'G 0.20', 'text': 'Informationen oder Produkte aus unzuverlässiger Quelle'}, {'handle': 'G 0.21', 'text': 'Manipulation von Hard- oder Software'}, {'handle': 'G 0.22', 'text': 'Manipulation von Informationen'}, {'handle': 'G 0.23', 'text': 'Unbefugtes Eindringen in IT-Systeme'}, {'handle': 'G 0.24', 'text': 'Zerstörung von Geräten oder Datenträgern'}, {'handle': 'G 0.25', 'text': 'Ausfall von Geräten oder Systemen'}, {'handle': 'G 0.26', 'text': 'Fehlfunktion von Geräten oder Systemen'}, {'handle': 'G 0.27', 'text': 'Ressourcenmangel'}, {'handle': 'G 0.28', 'text': 'Software-Schwachstellen oder -Fehler'}, {'handle': 'G 0.29', 'text': 'Verstoß gegen Gesetze oder Regelungen'}, {'handle': 'G 0.30', 'text': 'Unberechtigte Nutzung oder Administration von Geräten und Systemen'}, {'handle': 'G 0.31', 'text': 'Fehlerhafte Nutzung oder Administration von Geräten und Systemen'}, {'handle': 'G 0.32', 'text': 'Missbrauch von Berechtigungen'}, {'handle': 'G 0.33', 'text': 'Personalausfall'}, {'handle': 'G 0.34', 'text': 'Anschlag'}, {'handle': 'G 0.35', 'text': 'Nötigung, Erpressung oder Korruption'}, {'handle': 'G 0.36', 'text': 'Identitätsdiebstahl'}, {'handle': 'G 0.37', 'text': 'Abstreiten von Handlungen'}, {'handle': 'G 0.38', 'text': 'Missbrauch personenbezogener Daten'}, {'handle': 'G 0.39', 'text': 'Schadprogramme'}, {'handle': 'G 0.40', 'text': 'Verhinderung von Diensten (Denial of Service)'}, {'handle': 'G 0.41', 'text': 'Sabotage'}, {'handle': 'G 0.42', 'text': 'Social Engineering'}, {'handle': 'G 0.43', 'text': 'Einspielen von Nachrichten'}, {'handle': 'G 0.44', 'text': 'Unbefugtes Eindringen in Räumlichkeiten'}, {'handle': 'G 0.45', 'text': 'Datenverlust'}, {'handle': 'G 0.46', 'text': 'Integritätsverlust schützenswerter Informationen'}, {'handle': 'G 0.47', 'text': 'Schädliche Seiteneffekte IT-gestützter Angriffe'}]\n",
    "    print(\"processing \" + json_data[\"name\"])\n",
    "    with onto: \n",
    "        accidental = onto.ThreatSource(\"Accidental\")\n",
    "        malicious = onto.ThreatSource(\"malicious\")\n",
    "        human = onto.ThreatOrigin(\"human\")\n",
    "        natural = onto.ThreatOrigin(\"natural\")\n",
    "        gefahren = [onto.Threat_example(gefahr[\"text\"].replace('\"',\"'\")) for gefahr in GefahrenQuelle]\n",
    "        confidentiality = onto.SecurityAttribute(\"confidentiality\")\n",
    "        integrity = onto.SecurityAttribute(\"integrity\")\n",
    "        availability = onto.SecurityAttribute(\"availability\")\n",
    "        # Asset specific\n",
    "        asset = onto.Asset(json_data[\"name\"].replace('\"',\"'\"))\n",
    "        asset.hasInformationSource =  [onto.InformationSource(json_data[\"Informationsource\"])]\n",
    "        if not failed: asset.description = json_data[\"text\"].replace('\"',\"'\")\n",
    "        vulnerabilities = []\n",
    "        for vuln_data in json_data[\"vulnerableTo\"]:\n",
    "            vulnerability = onto.Vulnerability(vuln_data[\"name\"].replace('\"',\"'\"))\n",
    "            if not failed:vulnerability.description = vuln_data[\"text\"].replace('\"',\"'\")\n",
    "            vulnerability.hasInformationSource.append(onto.InformationSource(vuln_data[\"Informationsource\"]))\n",
    "            threats = []\n",
    "            if len(vuln_data[\"exploitedBy_examples\"]) > 0:\n",
    "                for threat_json in vuln_data[\"exploitedBy_examples\"]:\n",
    "                    threat =  onto.Threat_example(threat_json[\"name\"].replace('\"',\"'\"))\n",
    "                    if not failed: threat.description = threat_json[\"text\"].replace('\"',\"'\")\n",
    "                    threat.hasInformationSource =  [onto.InformationSource(vuln_data[\"Informationsource\"])]\n",
    "                    try:\n",
    "                        for origin in threat_json[\"hasOrigin\"]:\n",
    "                            if origin in [\"human\", \"natural\"]:\n",
    "                                threat.hasOrigin.append({\"human\": human, \"natural\": natural}[origin])\n",
    "                    except Exception as e: \n",
    "                        threat.hasOrigin = []\n",
    "                        logging.error(f\"Failed to add origin to threat: {e} on {threat_json['name']}\")\n",
    "                    try:\n",
    "                        for source in threat_json[\"hasSource\"]:\n",
    "                            if source in [\"accidental\", \"malicious\"]:\n",
    "                                threat.hasSource.append({\"accidental\": accidental, \"deliberate\": malicious}[source])\n",
    "                    except Exception as e:\n",
    "                        logging.error(f\"Failed to add source to threat: {e} on {threat_json['name']}\")\n",
    "                        threat.hasSource = []\n",
    "                    threats.append(threat)    \n",
    "                vulnerability.exploitedBy_exapmle = threats\n",
    "        asset.vulnerableTo = vulnerabilities\n",
    "\n",
    "        for control_data in json_data[\"Controls\"]:\n",
    "            level = control_data[\"level\"].lower()  # Convert to lowercase for matching\n",
    "            control_class = {\"low\":  onto.LowLevelControl, \"medium\":  onto.MediumLevelControl, \"high\":  onto.HighLevelControl}[level]\n",
    "            control = control_class(str(control_data[\"handle\"]+  \" \"+ control_data[\"name\"].replace('\"',\"'\")))\n",
    "            control.hasInformationSource =  [onto.InformationSource(control_data[\"Informationsource\"])]\n",
    "            for affect in control_data[\"affects\"]:\n",
    "                try: \n",
    "                    for letter in affect:\n",
    "                        control.affects.append({\"A\": availability, \"C\": confidentiality, \"I\": integrity }[letter])\n",
    "                    control.mitigates = [gefahren[int(gefahrtext.split(\".\")[1])-1] for gefahrtext in control_data[\"mitigates\"]]\n",
    "                except Exception as e: \n",
    "                    print(f\"failed to add affect to control: {e} of {control_data[\"name\"]}\")\n",
    "                    logging.error(f\"failed to add affect to control: {e} of {control_data[\"name\"]}\")\n",
    "            if not failed: control.description = control_data[\"text\"].replace('\"',\"'\")\n",
    "            try:\n",
    "                control.isresponsible = control_data[\"isresponsible\"]\n",
    "            except Exception as e:\n",
    "                logging.error(f\"Failed to add responsible entity to control: {e} on {control_data['name']}\")\n",
    "                control.isresponsible = []\n",
    "            control.implementedBy.append(asset)\n",
    "    return onto\n",
    "\n",
    "def ontologie_speichern(onto):\n",
    "    with onto:\n",
    "        onto.save(file=\"cybersecurity_complete_v9.owl\", format=\"rdfxml\")\n",
    "\n",
    "\n"
   ]
  },
  {
   "cell_type": "markdown",
   "metadata": {},
   "source": [
    "In dem Block werden alle vorherigen Schritte aufgerufen. Von jedem Link wird versucht ein vollwertiges dictionary zu erzeugen, schlägt das fehl werden in einem zweiten Durchlauf aus allen Fehlgeschlagenen links neue JSONs ohne Beschreibungen erstellt, da diese aufgrund der Einschränkungen von Gemini zu den meisten Fehlern führen. Das Ergebnis wird dann durch die Funktion **ontologie_speichern** abgespeichert. "
   ]
  },
  {
   "cell_type": "code",
   "execution_count": 27,
   "metadata": {
    "ExecuteTime": {
     "end_time": "2024-07-29T15:06:42.540565Z",
     "start_time": "2024-07-29T13:26:06.270907Z"
    }
   },
   "outputs": [
    {
     "name": "stdout",
     "output_type": "stream",
     "text": [
      "JSON file saved: A:\\Programmieren\\finalBugfixes\\working_files\\APP.1.1 Office-Produkte.json\n",
      "generating finished\n"
     ]
    },
    {
     "name": "stderr",
     "output_type": "stream",
     "text": [
      "A:\\Programmieren\\GeminiTest\\.venv\\Lib\\site-packages\\openpyxl\\worksheet\\header_footer.py:48: UserWarning: Cannot parse header or footer so it will be ignored\n",
      "  warn(\"\"\"Cannot parse header or footer so it will be ignored\"\"\")\n"
     ]
    },
    {
     "name": "stdout",
     "output_type": "stream",
     "text": [
      "processing APP.1.1 Office-Produkte\n",
      "JSON file saved: A:\\Programmieren\\finalBugfixes\\working_files\\APP.1.2 Webbrowser.json\n",
      "generating finished\n",
      "processing APP.1.2 Webbrowser\n",
      "JSON file saved: A:\\Programmieren\\finalBugfixes\\working_files\\Mobile Anwendungen (Apps).json\n",
      "generating finished\n"
     ]
    },
    {
     "name": "stderr",
     "output_type": "stream",
     "text": [
      "A:\\Programmieren\\GeminiTest\\.venv\\Lib\\site-packages\\openpyxl\\worksheet\\header_footer.py:48: UserWarning: Cannot parse header or footer so it will be ignored\n",
      "  warn(\"\"\"Cannot parse header or footer so it will be ignored\"\"\")\n"
     ]
    },
    {
     "name": "stdout",
     "output_type": "stream",
     "text": [
      "processing Mobile Anwendungen (Apps)\n",
      "JSON file saved: A:\\Programmieren\\finalBugfixes\\working_files\\Allgemeiner Verzeichnisdienst.json\n",
      "generating finished\n"
     ]
    },
    {
     "name": "stderr",
     "output_type": "stream",
     "text": [
      "A:\\Programmieren\\GeminiTest\\.venv\\Lib\\site-packages\\openpyxl\\worksheet\\header_footer.py:48: UserWarning: Cannot parse header or footer so it will be ignored\n",
      "  warn(\"\"\"Cannot parse header or footer so it will be ignored\"\"\")\n"
     ]
    },
    {
     "name": "stdout",
     "output_type": "stream",
     "text": [
      "processing Allgemeiner Verzeichnisdienst\n",
      "JSON file saved: A:\\Programmieren\\finalBugfixes\\working_files\\Webanwendungen und Webservices.json\n",
      "generating finished\n"
     ]
    },
    {
     "name": "stderr",
     "output_type": "stream",
     "text": [
      "A:\\Programmieren\\GeminiTest\\.venv\\Lib\\site-packages\\openpyxl\\worksheet\\header_footer.py:48: UserWarning: Cannot parse header or footer so it will be ignored\n",
      "  warn(\"\"\"Cannot parse header or footer so it will be ignored\"\"\")\n"
     ]
    },
    {
     "name": "stdout",
     "output_type": "stream",
     "text": [
      "processing Webanwendungen und Webservices\n",
      "JSON file saved: A:\\Programmieren\\finalBugfixes\\working_files\\APP.3.2 Webserver.json\n",
      "generating finished\n"
     ]
    },
    {
     "name": "stderr",
     "output_type": "stream",
     "text": [
      "A:\\Programmieren\\GeminiTest\\.venv\\Lib\\site-packages\\openpyxl\\worksheet\\header_footer.py:48: UserWarning: Cannot parse header or footer so it will be ignored\n",
      "  warn(\"\"\"Cannot parse header or footer so it will be ignored\"\"\")\n"
     ]
    },
    {
     "name": "stdout",
     "output_type": "stream",
     "text": [
      "processing APP.3.2 Webserver\n",
      "JSON file saved: A:\\Programmieren\\finalBugfixes\\working_files\\Fileserver.json\n",
      "generating finished\n"
     ]
    },
    {
     "name": "stderr",
     "output_type": "stream",
     "text": [
      "A:\\Programmieren\\GeminiTest\\.venv\\Lib\\site-packages\\openpyxl\\worksheet\\header_footer.py:48: UserWarning: Cannot parse header or footer so it will be ignored\n",
      "  warn(\"\"\"Cannot parse header or footer so it will be ignored\"\"\")\n"
     ]
    },
    {
     "name": "stdout",
     "output_type": "stream",
     "text": [
      "processing Fileserver\n",
      "JSON file saved: A:\\Programmieren\\finalBugfixes\\working_files\\Samba.json\n",
      "generating finished\n"
     ]
    },
    {
     "name": "stderr",
     "output_type": "stream",
     "text": [
      "A:\\Programmieren\\GeminiTest\\.venv\\Lib\\site-packages\\openpyxl\\worksheet\\header_footer.py:48: UserWarning: Cannot parse header or footer so it will be ignored\n",
      "  warn(\"\"\"Cannot parse header or footer so it will be ignored\"\"\")\n"
     ]
    },
    {
     "name": "stdout",
     "output_type": "stream",
     "text": [
      "processing Samba\n",
      "JSON file saved: A:\\Programmieren\\finalBugfixes\\working_files\\DNS-Server.json\n",
      "generating finished\n"
     ]
    },
    {
     "name": "stderr",
     "output_type": "stream",
     "text": [
      "A:\\Programmieren\\GeminiTest\\.venv\\Lib\\site-packages\\openpyxl\\worksheet\\header_footer.py:48: UserWarning: Cannot parse header or footer so it will be ignored\n",
      "  warn(\"\"\"Cannot parse header or footer so it will be ignored\"\"\")\n"
     ]
    },
    {
     "name": "stdout",
     "output_type": "stream",
     "text": [
      "processing DNS-Server\n",
      "JSON file saved: A:\\Programmieren\\finalBugfixes\\working_files\\APP.4.2 SAP-ERP-System.json\n",
      "generating finished\n"
     ]
    },
    {
     "name": "stderr",
     "output_type": "stream",
     "text": [
      "A:\\Programmieren\\GeminiTest\\.venv\\Lib\\site-packages\\openpyxl\\worksheet\\header_footer.py:48: UserWarning: Cannot parse header or footer so it will be ignored\n",
      "  warn(\"\"\"Cannot parse header or footer so it will be ignored\"\"\")\n"
     ]
    },
    {
     "name": "stdout",
     "output_type": "stream",
     "text": [
      "processing APP.4.2 SAP-ERP-System\n",
      "JSON file saved: A:\\Programmieren\\finalBugfixes\\working_files\\Relationale Datenbanken.json\n",
      "generating finished\n"
     ]
    },
    {
     "name": "stderr",
     "output_type": "stream",
     "text": [
      "A:\\Programmieren\\GeminiTest\\.venv\\Lib\\site-packages\\openpyxl\\worksheet\\header_footer.py:48: UserWarning: Cannot parse header or footer so it will be ignored\n",
      "  warn(\"\"\"Cannot parse header or footer so it will be ignored\"\"\")\n"
     ]
    },
    {
     "name": "stdout",
     "output_type": "stream",
     "text": [
      "processing Relationale Datenbanken\n",
      "JSON file saved: A:\\Programmieren\\finalBugfixes\\working_files\\APP.4.4 Kubernetes.json\n",
      "generating finished\n"
     ]
    },
    {
     "name": "stderr",
     "output_type": "stream",
     "text": [
      "A:\\Programmieren\\GeminiTest\\.venv\\Lib\\site-packages\\openpyxl\\worksheet\\header_footer.py:48: UserWarning: Cannot parse header or footer so it will be ignored\n",
      "  warn(\"\"\"Cannot parse header or footer so it will be ignored\"\"\")\n"
     ]
    },
    {
     "name": "stdout",
     "output_type": "stream",
     "text": [
      "processing APP.4.4 Kubernetes\n",
      "JSON file saved: A:\\Programmieren\\finalBugfixes\\working_files\\APP.4.6 SAP ABAP-Programmierung.json\n",
      "generating finished\n"
     ]
    },
    {
     "name": "stderr",
     "output_type": "stream",
     "text": [
      "A:\\Programmieren\\GeminiTest\\.venv\\Lib\\site-packages\\openpyxl\\worksheet\\header_footer.py:48: UserWarning: Cannot parse header or footer so it will be ignored\n",
      "  warn(\"\"\"Cannot parse header or footer so it will be ignored\"\"\")\n"
     ]
    },
    {
     "name": "stdout",
     "output_type": "stream",
     "text": [
      "processing APP.4.6 SAP ABAP-Programmierung\n",
      "JSON file saved: A:\\Programmieren\\finalBugfixes\\working_files\\APP.5.2 Microsoft Exchange und Outlook.json\n",
      "generating finished\n"
     ]
    },
    {
     "name": "stderr",
     "output_type": "stream",
     "text": [
      "A:\\Programmieren\\GeminiTest\\.venv\\Lib\\site-packages\\openpyxl\\worksheet\\header_footer.py:48: UserWarning: Cannot parse header or footer so it will be ignored\n",
      "  warn(\"\"\"Cannot parse header or footer so it will be ignored\"\"\")\n"
     ]
    },
    {
     "name": "stdout",
     "output_type": "stream",
     "text": [
      "processing APP.5.2 Microsoft Exchange und Outlook\n",
      "JSON file saved: A:\\Programmieren\\finalBugfixes\\working_files\\Allgemeiner E-Mail-Client und -Server.json\n",
      "generating finished\n"
     ]
    },
    {
     "name": "stderr",
     "output_type": "stream",
     "text": [
      "A:\\Programmieren\\GeminiTest\\.venv\\Lib\\site-packages\\openpyxl\\worksheet\\header_footer.py:48: UserWarning: Cannot parse header or footer so it will be ignored\n",
      "  warn(\"\"\"Cannot parse header or footer so it will be ignored\"\"\")\n"
     ]
    },
    {
     "name": "stdout",
     "output_type": "stream",
     "text": [
      "processing Allgemeiner E-Mail-Client und -Server\n",
      "JSON file saved: A:\\Programmieren\\finalBugfixes\\working_files\\Unified Communications und Collaboration (UCC).json\n",
      "generating finished\n"
     ]
    },
    {
     "name": "stderr",
     "output_type": "stream",
     "text": [
      "A:\\Programmieren\\GeminiTest\\.venv\\Lib\\site-packages\\openpyxl\\worksheet\\header_footer.py:48: UserWarning: Cannot parse header or footer so it will be ignored\n",
      "  warn(\"\"\"Cannot parse header or footer so it will be ignored\"\"\")\n"
     ]
    },
    {
     "name": "stdout",
     "output_type": "stream",
     "text": [
      "processing Unified Communications und Collaboration (UCC)\n",
      "JSON file saved: A:\\Programmieren\\finalBugfixes\\working_files\\APP.6 Allgemeine Software.json\n",
      "generating finished\n"
     ]
    },
    {
     "name": "stderr",
     "output_type": "stream",
     "text": [
      "A:\\Programmieren\\GeminiTest\\.venv\\Lib\\site-packages\\openpyxl\\worksheet\\header_footer.py:48: UserWarning: Cannot parse header or footer so it will be ignored\n",
      "  warn(\"\"\"Cannot parse header or footer so it will be ignored\"\"\")\n"
     ]
    },
    {
     "name": "stdout",
     "output_type": "stream",
     "text": [
      "processing APP.6 Allgemeine Software\n",
      "JSON file saved: A:\\Programmieren\\finalBugfixes\\working_files\\APP.7 Entwicklung von Individualsoftware.json\n",
      "generating finished\n"
     ]
    },
    {
     "name": "stderr",
     "output_type": "stream",
     "text": [
      "A:\\Programmieren\\GeminiTest\\.venv\\Lib\\site-packages\\openpyxl\\worksheet\\header_footer.py:48: UserWarning: Cannot parse header or footer so it will be ignored\n",
      "  warn(\"\"\"Cannot parse header or footer so it will be ignored\"\"\")\n"
     ]
    },
    {
     "name": "stdout",
     "output_type": "stream",
     "text": [
      "processing APP.7 Entwicklung von Individualsoftware\n",
      "JSON file saved: A:\\Programmieren\\finalBugfixes\\working_files\\CON.10 Entwicklung von Webanwendungen.json\n",
      "generating finished\n"
     ]
    },
    {
     "name": "stderr",
     "output_type": "stream",
     "text": [
      "A:\\Programmieren\\GeminiTest\\.venv\\Lib\\site-packages\\openpyxl\\worksheet\\header_footer.py:48: UserWarning: Cannot parse header or footer so it will be ignored\n",
      "  warn(\"\"\"Cannot parse header or footer so it will be ignored\"\"\")\n"
     ]
    },
    {
     "name": "stdout",
     "output_type": "stream",
     "text": [
      "processing CON.10 Entwicklung von Webanwendungen\n",
      "JSON file saved: A:\\Programmieren\\finalBugfixes\\working_files\\CON.11.1 Geheimschutz VS-NUR FÜR DEN DIENSTGEBRAUCH (VS-NfD).json\n",
      "generating finished\n"
     ]
    },
    {
     "name": "stderr",
     "output_type": "stream",
     "text": [
      "A:\\Programmieren\\GeminiTest\\.venv\\Lib\\site-packages\\openpyxl\\worksheet\\header_footer.py:48: UserWarning: Cannot parse header or footer so it will be ignored\n",
      "  warn(\"\"\"Cannot parse header or footer so it will be ignored\"\"\")\n"
     ]
    },
    {
     "name": "stdout",
     "output_type": "stream",
     "text": [
      "processing CON.11.1 Geheimschutz VS-NUR FÜR DEN DIENSTGEBRAUCH (VS-NfD)\n",
      "JSON file saved: A:\\Programmieren\\finalBugfixes\\working_files\\CON.1 Kryptokonzept.json\n",
      "generating finished\n"
     ]
    },
    {
     "name": "stderr",
     "output_type": "stream",
     "text": [
      "A:\\Programmieren\\GeminiTest\\.venv\\Lib\\site-packages\\openpyxl\\worksheet\\header_footer.py:48: UserWarning: Cannot parse header or footer so it will be ignored\n",
      "  warn(\"\"\"Cannot parse header or footer so it will be ignored\"\"\")\n"
     ]
    },
    {
     "name": "stdout",
     "output_type": "stream",
     "text": [
      "processing CON.1 Kryptokonzept\n",
      "JSON file saved: A:\\Programmieren\\finalBugfixes\\working_files\\CON.2 Datenschutz.json\n",
      "generating finished\n"
     ]
    },
    {
     "name": "stderr",
     "output_type": "stream",
     "text": [
      "A:\\Programmieren\\GeminiTest\\.venv\\Lib\\site-packages\\openpyxl\\worksheet\\header_footer.py:48: UserWarning: Cannot parse header or footer so it will be ignored\n",
      "  warn(\"\"\"Cannot parse header or footer so it will be ignored\"\"\")\n"
     ]
    },
    {
     "name": "stdout",
     "output_type": "stream",
     "text": [
      "processing CON.2 Datenschutz\n",
      "JSON file saved: A:\\Programmieren\\finalBugfixes\\working_files\\CON.3 Datensicherungskonzept.json\n",
      "generating finished\n"
     ]
    },
    {
     "name": "stderr",
     "output_type": "stream",
     "text": [
      "A:\\Programmieren\\GeminiTest\\.venv\\Lib\\site-packages\\openpyxl\\worksheet\\header_footer.py:48: UserWarning: Cannot parse header or footer so it will be ignored\n",
      "  warn(\"\"\"Cannot parse header or footer so it will be ignored\"\"\")\n"
     ]
    },
    {
     "name": "stdout",
     "output_type": "stream",
     "text": [
      "processing CON.3 Datensicherungskonzept\n",
      "JSON file saved: A:\\Programmieren\\finalBugfixes\\working_files\\CON.6 Löschen und Vernichten.json\n",
      "generating finished\n"
     ]
    },
    {
     "name": "stderr",
     "output_type": "stream",
     "text": [
      "A:\\Programmieren\\GeminiTest\\.venv\\Lib\\site-packages\\openpyxl\\worksheet\\header_footer.py:48: UserWarning: Cannot parse header or footer so it will be ignored\n",
      "  warn(\"\"\"Cannot parse header or footer so it will be ignored\"\"\")\n"
     ]
    },
    {
     "name": "stdout",
     "output_type": "stream",
     "text": [
      "processing CON.6 Löschen und Vernichten\n",
      "JSON file saved: A:\\Programmieren\\finalBugfixes\\working_files\\Informationssicherheit auf Auslandsreisen.json\n",
      "generating finished\n"
     ]
    },
    {
     "name": "stderr",
     "output_type": "stream",
     "text": [
      "A:\\Programmieren\\GeminiTest\\.venv\\Lib\\site-packages\\openpyxl\\worksheet\\header_footer.py:48: UserWarning: Cannot parse header or footer so it will be ignored\n",
      "  warn(\"\"\"Cannot parse header or footer so it will be ignored\"\"\")\n"
     ]
    },
    {
     "name": "stdout",
     "output_type": "stream",
     "text": [
      "processing Informationssicherheit auf Auslandsreisen\n",
      "JSON file saved: A:\\Programmieren\\finalBugfixes\\working_files\\CON.8 Software-Entwicklung.json\n",
      "generating finished\n"
     ]
    },
    {
     "name": "stderr",
     "output_type": "stream",
     "text": [
      "A:\\Programmieren\\GeminiTest\\.venv\\Lib\\site-packages\\openpyxl\\worksheet\\header_footer.py:48: UserWarning: Cannot parse header or footer so it will be ignored\n",
      "  warn(\"\"\"Cannot parse header or footer so it will be ignored\"\"\")\n"
     ]
    },
    {
     "name": "stdout",
     "output_type": "stream",
     "text": [
      "processing CON.8 Software-Entwicklung\n",
      "JSON file saved: A:\\Programmieren\\finalBugfixes\\working_files\\DER.1 Detektion von sicherheitsrelevanten Ereignissen.json\n",
      "generating finished\n"
     ]
    },
    {
     "name": "stderr",
     "output_type": "stream",
     "text": [
      "A:\\Programmieren\\GeminiTest\\.venv\\Lib\\site-packages\\openpyxl\\worksheet\\header_footer.py:48: UserWarning: Cannot parse header or footer so it will be ignored\n",
      "  warn(\"\"\"Cannot parse header or footer so it will be ignored\"\"\")\n"
     ]
    },
    {
     "name": "stdout",
     "output_type": "stream",
     "text": [
      "processing DER.1 Detektion von sicherheitsrelevanten Ereignissen\n",
      "JSON file saved: A:\\Programmieren\\finalBugfixes\\working_files\\Behandlung von Sicherheitsvorfällen.json\n",
      "generating finished\n"
     ]
    },
    {
     "name": "stderr",
     "output_type": "stream",
     "text": [
      "A:\\Programmieren\\GeminiTest\\.venv\\Lib\\site-packages\\openpyxl\\worksheet\\header_footer.py:48: UserWarning: Cannot parse header or footer so it will be ignored\n",
      "  warn(\"\"\"Cannot parse header or footer so it will be ignored\"\"\")\n"
     ]
    },
    {
     "name": "stdout",
     "output_type": "stream",
     "text": [
      "processing Behandlung von Sicherheitsvorfällen\n",
      "JSON file saved: A:\\Programmieren\\finalBugfixes\\working_files\\Vorsorge für die IT-Forensik.json\n",
      "generating finished\n"
     ]
    },
    {
     "name": "stderr",
     "output_type": "stream",
     "text": [
      "A:\\Programmieren\\GeminiTest\\.venv\\Lib\\site-packages\\openpyxl\\worksheet\\header_footer.py:48: UserWarning: Cannot parse header or footer so it will be ignored\n",
      "  warn(\"\"\"Cannot parse header or footer so it will be ignored\"\"\")\n"
     ]
    },
    {
     "name": "stdout",
     "output_type": "stream",
     "text": [
      "processing Vorsorge für die IT-Forensik\n",
      "JSON file saved: A:\\Programmieren\\finalBugfixes\\working_files\\Bereinigung weitreichender Sicherheitsvorfälle.json\n",
      "generating finished\n"
     ]
    },
    {
     "name": "stderr",
     "output_type": "stream",
     "text": [
      "A:\\Programmieren\\GeminiTest\\.venv\\Lib\\site-packages\\openpyxl\\worksheet\\header_footer.py:48: UserWarning: Cannot parse header or footer so it will be ignored\n",
      "  warn(\"\"\"Cannot parse header or footer so it will be ignored\"\"\")\n"
     ]
    },
    {
     "name": "stdout",
     "output_type": "stream",
     "text": [
      "processing Bereinigung weitreichender Sicherheitsvorfälle\n",
      "JSON file saved: A:\\Programmieren\\finalBugfixes\\working_files\\DER.3.2 Revisionen auf Basis des Leitfadens IS-Revision.json\n",
      "generating finished\n"
     ]
    },
    {
     "name": "stderr",
     "output_type": "stream",
     "text": [
      "A:\\Programmieren\\GeminiTest\\.venv\\Lib\\site-packages\\openpyxl\\worksheet\\header_footer.py:48: UserWarning: Cannot parse header or footer so it will be ignored\n",
      "  warn(\"\"\"Cannot parse header or footer so it will be ignored\"\"\")\n"
     ]
    },
    {
     "name": "stdout",
     "output_type": "stream",
     "text": [
      "processing DER.3.2 Revisionen auf Basis des Leitfadens IS-Revision\n",
      "JSON file saved: A:\\Programmieren\\finalBugfixes\\working_files\\DER.4 Notfallmanagement.json\n",
      "generating finished\n"
     ]
    },
    {
     "name": "stderr",
     "output_type": "stream",
     "text": [
      "A:\\Programmieren\\GeminiTest\\.venv\\Lib\\site-packages\\openpyxl\\worksheet\\header_footer.py:48: UserWarning: Cannot parse header or footer so it will be ignored\n",
      "  warn(\"\"\"Cannot parse header or footer so it will be ignored\"\"\")\n"
     ]
    },
    {
     "name": "stdout",
     "output_type": "stream",
     "text": [
      "processing DER.4 Notfallmanagement\n",
      "JSON file saved: A:\\Programmieren\\finalBugfixes\\working_files\\Allgemeine ICS-Komponente.json\n",
      "generating finished\n"
     ]
    },
    {
     "name": "stderr",
     "output_type": "stream",
     "text": [
      "A:\\Programmieren\\GeminiTest\\.venv\\Lib\\site-packages\\openpyxl\\worksheet\\header_footer.py:48: UserWarning: Cannot parse header or footer so it will be ignored\n",
      "  warn(\"\"\"Cannot parse header or footer so it will be ignored\"\"\")\n"
     ]
    },
    {
     "name": "stdout",
     "output_type": "stream",
     "text": [
      "processing Allgemeine ICS-Komponente\n",
      "JSON file saved: A:\\Programmieren\\finalBugfixes\\working_files\\Speicherprogrammierbare Steuerung (SPS).json\n",
      "generating finished\n"
     ]
    },
    {
     "name": "stderr",
     "output_type": "stream",
     "text": [
      "A:\\Programmieren\\GeminiTest\\.venv\\Lib\\site-packages\\openpyxl\\worksheet\\header_footer.py:48: UserWarning: Cannot parse header or footer so it will be ignored\n",
      "  warn(\"\"\"Cannot parse header or footer so it will be ignored\"\"\")\n"
     ]
    },
    {
     "name": "stdout",
     "output_type": "stream",
     "text": [
      "processing Speicherprogrammierbare Steuerung (SPS)\n",
      "JSON file saved: A:\\Programmieren\\finalBugfixes\\working_files\\Sensoren und Aktoren.json\n",
      "generating finished\n"
     ]
    },
    {
     "name": "stderr",
     "output_type": "stream",
     "text": [
      "A:\\Programmieren\\GeminiTest\\.venv\\Lib\\site-packages\\openpyxl\\worksheet\\header_footer.py:48: UserWarning: Cannot parse header or footer so it will be ignored\n",
      "  warn(\"\"\"Cannot parse header or footer so it will be ignored\"\"\")\n"
     ]
    },
    {
     "name": "stdout",
     "output_type": "stream",
     "text": [
      "processing Sensoren und Aktoren\n",
      "JSON file saved: A:\\Programmieren\\finalBugfixes\\working_files\\Maschine.json\n",
      "generating finished\n"
     ]
    },
    {
     "name": "stderr",
     "output_type": "stream",
     "text": [
      "A:\\Programmieren\\GeminiTest\\.venv\\Lib\\site-packages\\openpyxl\\worksheet\\header_footer.py:48: UserWarning: Cannot parse header or footer so it will be ignored\n",
      "  warn(\"\"\"Cannot parse header or footer so it will be ignored\"\"\")\n"
     ]
    },
    {
     "name": "stdout",
     "output_type": "stream",
     "text": [
      "processing Maschine\n",
      "JSON file saved: A:\\Programmieren\\finalBugfixes\\working_files\\Safety Instrumented Systems.json\n",
      "generating finished\n"
     ]
    },
    {
     "name": "stderr",
     "output_type": "stream",
     "text": [
      "A:\\Programmieren\\GeminiTest\\.venv\\Lib\\site-packages\\openpyxl\\worksheet\\header_footer.py:48: UserWarning: Cannot parse header or footer so it will be ignored\n",
      "  warn(\"\"\"Cannot parse header or footer so it will be ignored\"\"\")\n"
     ]
    },
    {
     "name": "stdout",
     "output_type": "stream",
     "text": [
      "processing Safety Instrumented Systems\n",
      "JSON file saved: A:\\Programmieren\\finalBugfixes\\working_files\\IND.3.2 Fernwartung im industriellen Umfeld.json\n",
      "generating finished\n"
     ]
    },
    {
     "name": "stderr",
     "output_type": "stream",
     "text": [
      "A:\\Programmieren\\GeminiTest\\.venv\\Lib\\site-packages\\openpyxl\\worksheet\\header_footer.py:48: UserWarning: Cannot parse header or footer so it will be ignored\n",
      "  warn(\"\"\"Cannot parse header or footer so it will be ignored\"\"\")\n"
     ]
    },
    {
     "name": "stdout",
     "output_type": "stream",
     "text": [
      "processing IND.3.2 Fernwartung im industriellen Umfeld\n",
      "JSON file saved: A:\\Programmieren\\finalBugfixes\\working_files\\Allgemeines Fahrzeug.json\n",
      "generating finished\n"
     ]
    },
    {
     "name": "stderr",
     "output_type": "stream",
     "text": [
      "A:\\Programmieren\\GeminiTest\\.venv\\Lib\\site-packages\\openpyxl\\worksheet\\header_footer.py:48: UserWarning: Cannot parse header or footer so it will be ignored\n",
      "  warn(\"\"\"Cannot parse header or footer so it will be ignored\"\"\")\n"
     ]
    },
    {
     "name": "stdout",
     "output_type": "stream",
     "text": [
      "processing Allgemeines Fahrzeug\n",
      "JSON file saved: A:\\Programmieren\\finalBugfixes\\working_files\\INF.12 Verkabelung.json\n",
      "generating finished\n"
     ]
    },
    {
     "name": "stderr",
     "output_type": "stream",
     "text": [
      "A:\\Programmieren\\GeminiTest\\.venv\\Lib\\site-packages\\openpyxl\\worksheet\\header_footer.py:48: UserWarning: Cannot parse header or footer so it will be ignored\n",
      "  warn(\"\"\"Cannot parse header or footer so it will be ignored\"\"\")\n"
     ]
    },
    {
     "name": "stdout",
     "output_type": "stream",
     "text": [
      "processing INF.12 Verkabelung\n",
      "JSON file saved: A:\\Programmieren\\finalBugfixes\\working_files\\Technisches Gebäudemanagement.json\n",
      "generating finished\n"
     ]
    },
    {
     "name": "stderr",
     "output_type": "stream",
     "text": [
      "A:\\Programmieren\\GeminiTest\\.venv\\Lib\\site-packages\\openpyxl\\worksheet\\header_footer.py:48: UserWarning: Cannot parse header or footer so it will be ignored\n",
      "  warn(\"\"\"Cannot parse header or footer so it will be ignored\"\"\")\n"
     ]
    },
    {
     "name": "stdout",
     "output_type": "stream",
     "text": [
      "processing Technisches Gebäudemanagement\n",
      "JSON file saved: A:\\Programmieren\\finalBugfixes\\working_files\\INF.14 Gebäudeautomation.json\n",
      "generating finished\n"
     ]
    },
    {
     "name": "stderr",
     "output_type": "stream",
     "text": [
      "A:\\Programmieren\\GeminiTest\\.venv\\Lib\\site-packages\\openpyxl\\worksheet\\header_footer.py:48: UserWarning: Cannot parse header or footer so it will be ignored\n",
      "  warn(\"\"\"Cannot parse header or footer so it will be ignored\"\"\")\n"
     ]
    },
    {
     "name": "stdout",
     "output_type": "stream",
     "text": [
      "processing INF.14 Gebäudeautomation\n",
      "JSON file saved: A:\\Programmieren\\finalBugfixes\\working_files\\Allgemeines Gebäude.json\n",
      "generating finished\n",
      "processing Allgemeines Gebäude\n",
      "JSON file saved: A:\\Programmieren\\finalBugfixes\\working_files\\Rechenzentrum sowie Serverraum.json\n",
      "generating finished\n"
     ]
    },
    {
     "name": "stderr",
     "output_type": "stream",
     "text": [
      "A:\\Programmieren\\GeminiTest\\.venv\\Lib\\site-packages\\openpyxl\\worksheet\\header_footer.py:48: UserWarning: Cannot parse header or footer so it will be ignored\n",
      "  warn(\"\"\"Cannot parse header or footer so it will be ignored\"\"\")\n"
     ]
    },
    {
     "name": "stdout",
     "output_type": "stream",
     "text": [
      "processing Rechenzentrum sowie Serverraum\n",
      "JSON file saved: A:\\Programmieren\\finalBugfixes\\working_files\\Raum sowie Schrank für technische Infrastruktur.json\n",
      "generating finished\n",
      "processing Raum sowie Schrank für technische Infrastruktur\n",
      "JSON file saved: A:\\Programmieren\\finalBugfixes\\working_files\\Datenträgerarchiv.json\n",
      "generating finished\n",
      "processing Datenträgerarchiv\n",
      "JSON file saved: A:\\Programmieren\\finalBugfixes\\working_files\\Büroarbeitsplatz.json\n",
      "generating finished\n",
      "processing Büroarbeitsplatz\n",
      "JSON file saved: A:\\Programmieren\\finalBugfixes\\working_files\\Häuslicher Arbeitsplatz.json\n",
      "generating finished\n"
     ]
    },
    {
     "name": "stderr",
     "output_type": "stream",
     "text": [
      "A:\\Programmieren\\GeminiTest\\.venv\\Lib\\site-packages\\openpyxl\\worksheet\\header_footer.py:48: UserWarning: Cannot parse header or footer so it will be ignored\n",
      "  warn(\"\"\"Cannot parse header or footer so it will be ignored\"\"\")\n"
     ]
    },
    {
     "name": "stdout",
     "output_type": "stream",
     "text": [
      "processing Häuslicher Arbeitsplatz\n",
      "JSON file saved: A:\\Programmieren\\finalBugfixes\\working_files\\Mobiler Arbeitsplatz.json\n",
      "generating finished\n"
     ]
    },
    {
     "name": "stderr",
     "output_type": "stream",
     "text": [
      "A:\\Programmieren\\GeminiTest\\.venv\\Lib\\site-packages\\openpyxl\\worksheet\\header_footer.py:48: UserWarning: Cannot parse header or footer so it will be ignored\n",
      "  warn(\"\"\"Cannot parse header or footer so it will be ignored\"\"\")\n"
     ]
    },
    {
     "name": "stdout",
     "output_type": "stream",
     "text": [
      "processing Mobiler Arbeitsplatz\n",
      "JSON file saved: A:\\Programmieren\\finalBugfixes\\working_files\\ISMS.1 Sicherheitsmanagement.json\n",
      "generating finished\n"
     ]
    },
    {
     "name": "stderr",
     "output_type": "stream",
     "text": [
      "A:\\Programmieren\\GeminiTest\\.venv\\Lib\\site-packages\\openpyxl\\worksheet\\header_footer.py:48: UserWarning: Cannot parse header or footer so it will be ignored\n",
      "  warn(\"\"\"Cannot parse header or footer so it will be ignored\"\"\")\n"
     ]
    },
    {
     "name": "stdout",
     "output_type": "stream",
     "text": [
      "processing ISMS.1 Sicherheitsmanagement\n",
      "JSON file saved: A:\\Programmieren\\finalBugfixes\\working_files\\NET.1.1 Netzarchitektur und -design.json\n",
      "generating finished\n"
     ]
    },
    {
     "name": "stderr",
     "output_type": "stream",
     "text": [
      "A:\\Programmieren\\GeminiTest\\.venv\\Lib\\site-packages\\openpyxl\\worksheet\\header_footer.py:48: UserWarning: Cannot parse header or footer so it will be ignored\n",
      "  warn(\"\"\"Cannot parse header or footer so it will be ignored\"\"\")\n"
     ]
    },
    {
     "name": "stdout",
     "output_type": "stream",
     "text": [
      "processing NET.1.1 Netzarchitektur und -design\n",
      "JSON file saved: A:\\Programmieren\\finalBugfixes\\working_files\\NET.1.2 Netzmanagement.json\n",
      "generating finished\n"
     ]
    },
    {
     "name": "stderr",
     "output_type": "stream",
     "text": [
      "A:\\Programmieren\\GeminiTest\\.venv\\Lib\\site-packages\\openpyxl\\worksheet\\header_footer.py:48: UserWarning: Cannot parse header or footer so it will be ignored\n",
      "  warn(\"\"\"Cannot parse header or footer so it will be ignored\"\"\")\n"
     ]
    },
    {
     "name": "stdout",
     "output_type": "stream",
     "text": [
      "processing NET.1.2 Netzmanagement\n",
      "JSON file saved: A:\\Programmieren\\finalBugfixes\\working_files\\NET.2.1 WLAN-Betrieb.json\n",
      "generating finished\n"
     ]
    },
    {
     "name": "stderr",
     "output_type": "stream",
     "text": [
      "A:\\Programmieren\\GeminiTest\\.venv\\Lib\\site-packages\\openpyxl\\worksheet\\header_footer.py:48: UserWarning: Cannot parse header or footer so it will be ignored\n",
      "  warn(\"\"\"Cannot parse header or footer so it will be ignored\"\"\")\n"
     ]
    },
    {
     "name": "stdout",
     "output_type": "stream",
     "text": [
      "processing NET.2.1 WLAN-Betrieb\n",
      "JSON file saved: A:\\Programmieren\\finalBugfixes\\working_files\\NET.2.2 WLAN-Nutzung.json\n",
      "generating finished\n"
     ]
    },
    {
     "name": "stderr",
     "output_type": "stream",
     "text": [
      "A:\\Programmieren\\GeminiTest\\.venv\\Lib\\site-packages\\openpyxl\\worksheet\\header_footer.py:48: UserWarning: Cannot parse header or footer so it will be ignored\n",
      "  warn(\"\"\"Cannot parse header or footer so it will be ignored\"\"\")\n"
     ]
    },
    {
     "name": "stdout",
     "output_type": "stream",
     "text": [
      "processing NET.2.2 WLAN-Nutzung\n",
      "JSON file saved: A:\\Programmieren\\finalBugfixes\\working_files\\NET.3.1 Router und Switches.json\n",
      "generating finished\n"
     ]
    },
    {
     "name": "stderr",
     "output_type": "stream",
     "text": [
      "A:\\Programmieren\\GeminiTest\\.venv\\Lib\\site-packages\\openpyxl\\worksheet\\header_footer.py:48: UserWarning: Cannot parse header or footer so it will be ignored\n",
      "  warn(\"\"\"Cannot parse header or footer so it will be ignored\"\"\")\n"
     ]
    },
    {
     "name": "stdout",
     "output_type": "stream",
     "text": [
      "processing NET.3.1 Router und Switches\n",
      "JSON file saved: A:\\Programmieren\\finalBugfixes\\working_files\\NET.3.2 Firewall.json\n",
      "generating finished\n"
     ]
    },
    {
     "name": "stderr",
     "output_type": "stream",
     "text": [
      "A:\\Programmieren\\GeminiTest\\.venv\\Lib\\site-packages\\openpyxl\\worksheet\\header_footer.py:48: UserWarning: Cannot parse header or footer so it will be ignored\n",
      "  warn(\"\"\"Cannot parse header or footer so it will be ignored\"\"\")\n"
     ]
    },
    {
     "name": "stdout",
     "output_type": "stream",
     "text": [
      "processing NET.3.2 Firewall\n",
      "JSON file saved: A:\\Programmieren\\finalBugfixes\\working_files\\NET.3.3 VPN.json\n",
      "generating finished\n"
     ]
    },
    {
     "name": "stderr",
     "output_type": "stream",
     "text": [
      "A:\\Programmieren\\GeminiTest\\.venv\\Lib\\site-packages\\openpyxl\\worksheet\\header_footer.py:48: UserWarning: Cannot parse header or footer so it will be ignored\n",
      "  warn(\"\"\"Cannot parse header or footer so it will be ignored\"\"\")\n"
     ]
    },
    {
     "name": "stdout",
     "output_type": "stream",
     "text": [
      "processing NET.3.3 VPN\n",
      "JSON file saved: A:\\Programmieren\\finalBugfixes\\working_files\\NET.3.4 Network Access Control.json\n",
      "generating finished\n"
     ]
    },
    {
     "name": "stderr",
     "output_type": "stream",
     "text": [
      "A:\\Programmieren\\GeminiTest\\.venv\\Lib\\site-packages\\openpyxl\\worksheet\\header_footer.py:48: UserWarning: Cannot parse header or footer so it will be ignored\n",
      "  warn(\"\"\"Cannot parse header or footer so it will be ignored\"\"\")\n"
     ]
    },
    {
     "name": "stdout",
     "output_type": "stream",
     "text": [
      "processing NET.3.4 Network Access Control\n",
      "JSON file saved: A:\\Programmieren\\finalBugfixes\\working_files\\NET.4.2 VoIP.json\n",
      "generating finished\n"
     ]
    },
    {
     "name": "stderr",
     "output_type": "stream",
     "text": [
      "A:\\Programmieren\\GeminiTest\\.venv\\Lib\\site-packages\\openpyxl\\worksheet\\header_footer.py:48: UserWarning: Cannot parse header or footer so it will be ignored\n",
      "  warn(\"\"\"Cannot parse header or footer so it will be ignored\"\"\")\n"
     ]
    },
    {
     "name": "stdout",
     "output_type": "stream",
     "text": [
      "processing NET.4.2 VoIP\n",
      "JSON file saved: A:\\Programmieren\\finalBugfixes\\working_files\\OPS.1.1.1 Allgemeiner IT-Betrieb.json\n",
      "generating finished\n"
     ]
    },
    {
     "name": "stderr",
     "output_type": "stream",
     "text": [
      "A:\\Programmieren\\GeminiTest\\.venv\\Lib\\site-packages\\openpyxl\\worksheet\\header_footer.py:48: UserWarning: Cannot parse header or footer so it will be ignored\n",
      "  warn(\"\"\"Cannot parse header or footer so it will be ignored\"\"\")\n"
     ]
    },
    {
     "name": "stdout",
     "output_type": "stream",
     "text": [
      "processing OPS.1.1.1 Allgemeiner IT-Betrieb\n",
      "JSON file saved: A:\\Programmieren\\finalBugfixes\\working_files\\Ordnungsgemäße IT-Administration.json\n",
      "generating finished\n"
     ]
    },
    {
     "name": "stderr",
     "output_type": "stream",
     "text": [
      "A:\\Programmieren\\GeminiTest\\.venv\\Lib\\site-packages\\openpyxl\\worksheet\\header_footer.py:48: UserWarning: Cannot parse header or footer so it will be ignored\n",
      "  warn(\"\"\"Cannot parse header or footer so it will be ignored\"\"\")\n"
     ]
    },
    {
     "name": "stdout",
     "output_type": "stream",
     "text": [
      "processing Ordnungsgemäße IT-Administration\n",
      "JSON file saved: A:\\Programmieren\\finalBugfixes\\working_files\\OPS.1.1.3 Patch- und Änderungsmanagement.json\n",
      "generating finished\n"
     ]
    },
    {
     "name": "stderr",
     "output_type": "stream",
     "text": [
      "A:\\Programmieren\\GeminiTest\\.venv\\Lib\\site-packages\\openpyxl\\worksheet\\header_footer.py:48: UserWarning: Cannot parse header or footer so it will be ignored\n",
      "  warn(\"\"\"Cannot parse header or footer so it will be ignored\"\"\")\n"
     ]
    },
    {
     "name": "stdout",
     "output_type": "stream",
     "text": [
      "processing OPS.1.1.3 Patch- und Änderungsmanagement\n",
      "JSON file saved: A:\\Programmieren\\finalBugfixes\\working_files\\Schutz vor Schadprogrammen.json\n",
      "generating finished\n"
     ]
    },
    {
     "name": "stderr",
     "output_type": "stream",
     "text": [
      "A:\\Programmieren\\GeminiTest\\.venv\\Lib\\site-packages\\openpyxl\\worksheet\\header_footer.py:48: UserWarning: Cannot parse header or footer so it will be ignored\n",
      "  warn(\"\"\"Cannot parse header or footer so it will be ignored\"\"\")\n"
     ]
    },
    {
     "name": "stdout",
     "output_type": "stream",
     "text": [
      "processing Schutz vor Schadprogrammen\n",
      "JSON file saved: A:\\Programmieren\\finalBugfixes\\working_files\\OPS.1.1.5 Protokollierung.json\n",
      "generating finished\n"
     ]
    },
    {
     "name": "stderr",
     "output_type": "stream",
     "text": [
      "A:\\Programmieren\\GeminiTest\\.venv\\Lib\\site-packages\\openpyxl\\worksheet\\header_footer.py:48: UserWarning: Cannot parse header or footer so it will be ignored\n",
      "  warn(\"\"\"Cannot parse header or footer so it will be ignored\"\"\")\n"
     ]
    },
    {
     "name": "stdout",
     "output_type": "stream",
     "text": [
      "processing OPS.1.1.5 Protokollierung\n",
      "JSON file saved: A:\\Programmieren\\finalBugfixes\\working_files\\Software-Tests und -Freigaben.json\n",
      "generating finished\n"
     ]
    },
    {
     "name": "stderr",
     "output_type": "stream",
     "text": [
      "A:\\Programmieren\\GeminiTest\\.venv\\Lib\\site-packages\\openpyxl\\worksheet\\header_footer.py:48: UserWarning: Cannot parse header or footer so it will be ignored\n",
      "  warn(\"\"\"Cannot parse header or footer so it will be ignored\"\"\")\n"
     ]
    },
    {
     "name": "stdout",
     "output_type": "stream",
     "text": [
      "processing Software-Tests und -Freigaben\n",
      "JSON file saved: A:\\Programmieren\\finalBugfixes\\working_files\\Systemmanagement.json\n",
      "generating finished\n"
     ]
    },
    {
     "name": "stderr",
     "output_type": "stream",
     "text": [
      "A:\\Programmieren\\GeminiTest\\.venv\\Lib\\site-packages\\openpyxl\\worksheet\\header_footer.py:48: UserWarning: Cannot parse header or footer so it will be ignored\n",
      "  warn(\"\"\"Cannot parse header or footer so it will be ignored\"\"\")\n"
     ]
    },
    {
     "name": "stdout",
     "output_type": "stream",
     "text": [
      "processing Systemmanagement\n",
      "JSON file saved: A:\\Programmieren\\finalBugfixes\\working_files\\OPS.1.2.2 Archivierung.json\n",
      "generating finished\n"
     ]
    },
    {
     "name": "stderr",
     "output_type": "stream",
     "text": [
      "A:\\Programmieren\\GeminiTest\\.venv\\Lib\\site-packages\\openpyxl\\worksheet\\header_footer.py:48: UserWarning: Cannot parse header or footer so it will be ignored\n",
      "  warn(\"\"\"Cannot parse header or footer so it will be ignored\"\"\")\n"
     ]
    },
    {
     "name": "stdout",
     "output_type": "stream",
     "text": [
      "processing OPS.1.2.2 Archivierung\n",
      "JSON file saved: A:\\Programmieren\\finalBugfixes\\working_files\\OPS.1.2.4 Telearbeit.json\n",
      "generating finished\n"
     ]
    },
    {
     "name": "stderr",
     "output_type": "stream",
     "text": [
      "A:\\Programmieren\\GeminiTest\\.venv\\Lib\\site-packages\\openpyxl\\worksheet\\header_footer.py:48: UserWarning: Cannot parse header or footer so it will be ignored\n",
      "  warn(\"\"\"Cannot parse header or footer so it will be ignored\"\"\")\n"
     ]
    },
    {
     "name": "stdout",
     "output_type": "stream",
     "text": [
      "processing OPS.1.2.4 Telearbeit\n",
      "JSON file saved: A:\\Programmieren\\finalBugfixes\\working_files\\OPS.1.2.5 Fernwartung.json\n",
      "generating finished\n"
     ]
    },
    {
     "name": "stderr",
     "output_type": "stream",
     "text": [
      "A:\\Programmieren\\GeminiTest\\.venv\\Lib\\site-packages\\openpyxl\\worksheet\\header_footer.py:48: UserWarning: Cannot parse header or footer so it will be ignored\n",
      "  warn(\"\"\"Cannot parse header or footer so it will be ignored\"\"\")\n"
     ]
    },
    {
     "name": "stdout",
     "output_type": "stream",
     "text": [
      "processing OPS.1.2.5 Fernwartung\n",
      "JSON file saved: A:\\Programmieren\\finalBugfixes\\working_files\\OPS.1.2.6 NTP-Zeitsynchronisation.json\n",
      "generating finished\n"
     ]
    },
    {
     "name": "stderr",
     "output_type": "stream",
     "text": [
      "A:\\Programmieren\\GeminiTest\\.venv\\Lib\\site-packages\\openpyxl\\worksheet\\header_footer.py:48: UserWarning: Cannot parse header or footer so it will be ignored\n",
      "  warn(\"\"\"Cannot parse header or footer so it will be ignored\"\"\")\n"
     ]
    },
    {
     "name": "stdout",
     "output_type": "stream",
     "text": [
      "processing OPS.1.2.6 NTP-Zeitsynchronisation\n",
      "JSON file saved: A:\\Programmieren\\finalBugfixes\\working_files\\OPS.2.2 Cloud-Nutzung.json\n",
      "generating finished\n"
     ]
    },
    {
     "name": "stderr",
     "output_type": "stream",
     "text": [
      "A:\\Programmieren\\GeminiTest\\.venv\\Lib\\site-packages\\openpyxl\\worksheet\\header_footer.py:48: UserWarning: Cannot parse header or footer so it will be ignored\n",
      "  warn(\"\"\"Cannot parse header or footer so it will be ignored\"\"\")\n"
     ]
    },
    {
     "name": "stdout",
     "output_type": "stream",
     "text": [
      "processing OPS.2.2 Cloud-Nutzung\n",
      "JSON file saved: A:\\Programmieren\\finalBugfixes\\working_files\\OPS.2.3 Nutzung von Outsourcing.json\n",
      "generating finished\n",
      "processing OPS.2.3 Nutzung von Outsourcing\n",
      "JSON file saved: A:\\Programmieren\\finalBugfixes\\working_files\\OPS.3.2 Anbieten von Outsourcing.json\n",
      "generating finished\n",
      "processing OPS.3.2 Anbieten von Outsourcing\n",
      "JSON file saved: A:\\Programmieren\\finalBugfixes\\working_files\\ORP.1 Organisation.json\n",
      "generating finished\n",
      "processing ORP.1 Organisation\n",
      "JSON file saved: A:\\Programmieren\\finalBugfixes\\working_files\\ORP.2 Personal.json\n",
      "generating finished\n",
      "processing ORP.2 Personal\n",
      "JSON file saved: A:\\Programmieren\\finalBugfixes\\working_files\\ORP.3 Sensibilisierung und Schulung zur Informationssicherheit.json\n",
      "generating finished\n",
      "processing ORP.3 Sensibilisierung und Schulung zur Informationssicherheit\n",
      "JSON file saved: A:\\Programmieren\\finalBugfixes\\working_files\\Identitäts- und Berechtigungsmanagement.json\n",
      "generating finished\n"
     ]
    },
    {
     "name": "stderr",
     "output_type": "stream",
     "text": [
      "A:\\Programmieren\\GeminiTest\\.venv\\Lib\\site-packages\\openpyxl\\worksheet\\header_footer.py:48: UserWarning: Cannot parse header or footer so it will be ignored\n",
      "  warn(\"\"\"Cannot parse header or footer so it will be ignored\"\"\")\n"
     ]
    },
    {
     "name": "stdout",
     "output_type": "stream",
     "text": [
      "processing Identitäts- und Berechtigungsmanagement\n",
      "JSON file saved: A:\\Programmieren\\finalBugfixes\\working_files\\Allgemeiner Server.json\n",
      "generating finished\n"
     ]
    },
    {
     "name": "stderr",
     "output_type": "stream",
     "text": [
      "A:\\Programmieren\\GeminiTest\\.venv\\Lib\\site-packages\\openpyxl\\worksheet\\header_footer.py:48: UserWarning: Cannot parse header or footer so it will be ignored\n",
      "  warn(\"\"\"Cannot parse header or footer so it will be ignored\"\"\")\n"
     ]
    },
    {
     "name": "stdout",
     "output_type": "stream",
     "text": [
      "processing Allgemeiner Server\n",
      "JSON file saved: A:\\Programmieren\\finalBugfixes\\working_files\\Server unter Linux und Unix.json\n",
      "generating finished\n"
     ]
    },
    {
     "name": "stderr",
     "output_type": "stream",
     "text": [
      "A:\\Programmieren\\GeminiTest\\.venv\\Lib\\site-packages\\openpyxl\\worksheet\\header_footer.py:48: UserWarning: Cannot parse header or footer so it will be ignored\n",
      "  warn(\"\"\"Cannot parse header or footer so it will be ignored\"\"\")\n"
     ]
    },
    {
     "name": "stdout",
     "output_type": "stream",
     "text": [
      "processing Server unter Linux und Unix\n",
      "JSON file saved: A:\\Programmieren\\finalBugfixes\\working_files\\SYS.1.5 Virtualisierung.json\n",
      "generating finished\n",
      "processing SYS.1.5 Virtualisierung\n",
      "JSON file saved: A:\\Programmieren\\finalBugfixes\\working_files\\SYS.1.7 IBM Z.json\n",
      "generating finished\n"
     ]
    },
    {
     "name": "stderr",
     "output_type": "stream",
     "text": [
      "A:\\Programmieren\\GeminiTest\\.venv\\Lib\\site-packages\\openpyxl\\worksheet\\header_footer.py:48: UserWarning: Cannot parse header or footer so it will be ignored\n",
      "  warn(\"\"\"Cannot parse header or footer so it will be ignored\"\"\")\n"
     ]
    },
    {
     "name": "stdout",
     "output_type": "stream",
     "text": [
      "processing SYS.1.7 IBM Z\n",
      "JSON file saved: A:\\Programmieren\\finalBugfixes\\working_files\\SYS.1.8 Speicherlösungen.json\n",
      "generating finished\n"
     ]
    },
    {
     "name": "stderr",
     "output_type": "stream",
     "text": [
      "A:\\Programmieren\\GeminiTest\\.venv\\Lib\\site-packages\\openpyxl\\worksheet\\header_footer.py:48: UserWarning: Cannot parse header or footer so it will be ignored\n",
      "  warn(\"\"\"Cannot parse header or footer so it will be ignored\"\"\")\n"
     ]
    },
    {
     "name": "stdout",
     "output_type": "stream",
     "text": [
      "processing SYS.1.8 Speicherlösungen\n",
      "JSON file saved: A:\\Programmieren\\finalBugfixes\\working_files\\Terminalserver.json\n",
      "generating finished\n"
     ]
    },
    {
     "name": "stderr",
     "output_type": "stream",
     "text": [
      "A:\\Programmieren\\GeminiTest\\.venv\\Lib\\site-packages\\openpyxl\\worksheet\\header_footer.py:48: UserWarning: Cannot parse header or footer so it will be ignored\n",
      "  warn(\"\"\"Cannot parse header or footer so it will be ignored\"\"\")\n"
     ]
    },
    {
     "name": "stdout",
     "output_type": "stream",
     "text": [
      "processing Terminalserver\n",
      "JSON file saved: A:\\Programmieren\\finalBugfixes\\working_files\\SYS.2.1 Allgemeiner Client.json\n",
      "generating finished\n"
     ]
    },
    {
     "name": "stderr",
     "output_type": "stream",
     "text": [
      "A:\\Programmieren\\GeminiTest\\.venv\\Lib\\site-packages\\openpyxl\\worksheet\\header_footer.py:48: UserWarning: Cannot parse header or footer so it will be ignored\n",
      "  warn(\"\"\"Cannot parse header or footer so it will be ignored\"\"\")\n"
     ]
    },
    {
     "name": "stdout",
     "output_type": "stream",
     "text": [
      "processing SYS.2.1 Allgemeiner Client\n",
      "JSON file saved: A:\\Programmieren\\finalBugfixes\\working_files\\SYS.2.2.3 Clients unter Windows.json\n",
      "generating finished\n"
     ]
    },
    {
     "name": "stderr",
     "output_type": "stream",
     "text": [
      "A:\\Programmieren\\GeminiTest\\.venv\\Lib\\site-packages\\openpyxl\\worksheet\\header_footer.py:48: UserWarning: Cannot parse header or footer so it will be ignored\n",
      "  warn(\"\"\"Cannot parse header or footer so it will be ignored\"\"\")\n"
     ]
    },
    {
     "name": "stdout",
     "output_type": "stream",
     "text": [
      "processing SYS.2.2.3 Clients unter Windows\n",
      "JSON file saved: A:\\Programmieren\\finalBugfixes\\working_files\\SYS.2.4 Clients unter macOS.json\n",
      "generating finished\n"
     ]
    },
    {
     "name": "stderr",
     "output_type": "stream",
     "text": [
      "A:\\Programmieren\\GeminiTest\\.venv\\Lib\\site-packages\\openpyxl\\worksheet\\header_footer.py:48: UserWarning: Cannot parse header or footer so it will be ignored\n",
      "  warn(\"\"\"Cannot parse header or footer so it will be ignored\"\"\")\n"
     ]
    },
    {
     "name": "stdout",
     "output_type": "stream",
     "text": [
      "processing SYS.2.4 Clients unter macOS\n",
      "JSON file saved: A:\\Programmieren\\finalBugfixes\\working_files\\SYS.2.5 Client-Virtualisierung.json\n",
      "generating finished\n"
     ]
    },
    {
     "name": "stderr",
     "output_type": "stream",
     "text": [
      "A:\\Programmieren\\GeminiTest\\.venv\\Lib\\site-packages\\openpyxl\\worksheet\\header_footer.py:48: UserWarning: Cannot parse header or footer so it will be ignored\n",
      "  warn(\"\"\"Cannot parse header or footer so it will be ignored\"\"\")\n"
     ]
    },
    {
     "name": "stdout",
     "output_type": "stream",
     "text": [
      "processing SYS.2.5 Client-Virtualisierung\n",
      "JSON file saved: A:\\Programmieren\\finalBugfixes\\working_files\\SYS.2.6 Virtual Desktop Infrastructure.json\n",
      "generating finished\n"
     ]
    },
    {
     "name": "stderr",
     "output_type": "stream",
     "text": [
      "A:\\Programmieren\\GeminiTest\\.venv\\Lib\\site-packages\\openpyxl\\worksheet\\header_footer.py:48: UserWarning: Cannot parse header or footer so it will be ignored\n",
      "  warn(\"\"\"Cannot parse header or footer so it will be ignored\"\"\")\n"
     ]
    },
    {
     "name": "stdout",
     "output_type": "stream",
     "text": [
      "processing SYS.2.6 Virtual Desktop Infrastructure\n",
      "JSON file saved: A:\\Programmieren\\finalBugfixes\\working_files\\SYS.3.1 Laptops.json\n",
      "generating finished\n"
     ]
    },
    {
     "name": "stderr",
     "output_type": "stream",
     "text": [
      "A:\\Programmieren\\GeminiTest\\.venv\\Lib\\site-packages\\openpyxl\\worksheet\\header_footer.py:48: UserWarning: Cannot parse header or footer so it will be ignored\n",
      "  warn(\"\"\"Cannot parse header or footer so it will be ignored\"\"\")\n"
     ]
    },
    {
     "name": "stdout",
     "output_type": "stream",
     "text": [
      "processing SYS.3.1 Laptops\n",
      "JSON file saved: A:\\Programmieren\\finalBugfixes\\working_files\\Allgemeine Smartphones und Tablets.json\n",
      "generating finished\n"
     ]
    },
    {
     "name": "stderr",
     "output_type": "stream",
     "text": [
      "A:\\Programmieren\\GeminiTest\\.venv\\Lib\\site-packages\\openpyxl\\worksheet\\header_footer.py:48: UserWarning: Cannot parse header or footer so it will be ignored\n",
      "  warn(\"\"\"Cannot parse header or footer so it will be ignored\"\"\")\n"
     ]
    },
    {
     "name": "stdout",
     "output_type": "stream",
     "text": [
      "processing Allgemeine Smartphones und Tablets\n",
      "JSON file saved: A:\\Programmieren\\finalBugfixes\\working_files\\SYS.3.2.2 Mobile Device Management (MDM).json\n",
      "generating finished\n"
     ]
    },
    {
     "name": "stderr",
     "output_type": "stream",
     "text": [
      "A:\\Programmieren\\GeminiTest\\.venv\\Lib\\site-packages\\openpyxl\\worksheet\\header_footer.py:48: UserWarning: Cannot parse header or footer so it will be ignored\n",
      "  warn(\"\"\"Cannot parse header or footer so it will be ignored\"\"\")\n"
     ]
    },
    {
     "name": "stdout",
     "output_type": "stream",
     "text": [
      "processing SYS.3.2.2 Mobile Device Management (MDM)\n",
      "JSON file saved: A:\\Programmieren\\finalBugfixes\\working_files\\SYS.3.2.3 iOS (for Enterprise).json\n",
      "generating finished\n"
     ]
    },
    {
     "name": "stderr",
     "output_type": "stream",
     "text": [
      "A:\\Programmieren\\GeminiTest\\.venv\\Lib\\site-packages\\openpyxl\\worksheet\\header_footer.py:48: UserWarning: Cannot parse header or footer so it will be ignored\n",
      "  warn(\"\"\"Cannot parse header or footer so it will be ignored\"\"\")\n"
     ]
    },
    {
     "name": "stdout",
     "output_type": "stream",
     "text": [
      "processing SYS.3.2.3 iOS (for Enterprise)\n",
      "JSON file saved: A:\\Programmieren\\finalBugfixes\\working_files\\SYS.3.2.4 Android.json\n",
      "generating finished\n"
     ]
    },
    {
     "name": "stderr",
     "output_type": "stream",
     "text": [
      "A:\\Programmieren\\GeminiTest\\.venv\\Lib\\site-packages\\openpyxl\\worksheet\\header_footer.py:48: UserWarning: Cannot parse header or footer so it will be ignored\n",
      "  warn(\"\"\"Cannot parse header or footer so it will be ignored\"\"\")\n"
     ]
    },
    {
     "name": "stdout",
     "output_type": "stream",
     "text": [
      "processing SYS.3.2.4 Android\n",
      "JSON file saved: A:\\Programmieren\\finalBugfixes\\working_files\\Eingebettete Systeme.json\n",
      "generating finished\n"
     ]
    },
    {
     "name": "stderr",
     "output_type": "stream",
     "text": [
      "A:\\Programmieren\\GeminiTest\\.venv\\Lib\\site-packages\\openpyxl\\worksheet\\header_footer.py:48: UserWarning: Cannot parse header or footer so it will be ignored\n",
      "  warn(\"\"\"Cannot parse header or footer so it will be ignored\"\"\")\n"
     ]
    },
    {
     "name": "stdout",
     "output_type": "stream",
     "text": [
      "processing Eingebettete Systeme\n",
      "JSON file saved: A:\\Programmieren\\finalBugfixes\\working_files\\Allgemeines IoT-Gerät.json\n",
      "generating finished\n"
     ]
    },
    {
     "name": "stderr",
     "output_type": "stream",
     "text": [
      "A:\\Programmieren\\GeminiTest\\.venv\\Lib\\site-packages\\openpyxl\\worksheet\\header_footer.py:48: UserWarning: Cannot parse header or footer so it will be ignored\n",
      "  warn(\"\"\"Cannot parse header or footer so it will be ignored\"\"\")\n"
     ]
    },
    {
     "name": "stdout",
     "output_type": "stream",
     "text": [
      "processing Allgemeines IoT-Gerät\n",
      "JSON file saved: A:\\Programmieren\\finalBugfixes\\working_files\\SYS.4.5 Wechseldatenträger.json\n",
      "generating finished\n",
      "processing SYS.4.5 Wechseldatenträger\n"
     ]
    }
   ],
   "source": [
    "#create seperate trace and a log files\n",
    "logging.basicConfig(filename='ontology_creation.log', level=logging.INFO, \n",
    "                    format='%(asctime)s - %(levelname)s - %(message)s')\n",
    "\n",
    "\n",
    "failed = []\n",
    "onto = intiiere_Ontologie()\n",
    "\n",
    "for link in links_array:\n",
    "    try:\n",
    "        onto = create_baustein(link,onto) \n",
    "    except Exception as e:\n",
    "        failed.append(link)\n",
    "logging.info(f\"Failed to create bausteine for links: {len(failed)}\")\n",
    "for i in failed:\n",
    "    try: \n",
    "        onto = create_baustein(i, onto, True)\n",
    "    except Exception as e:\n",
    "        logging.error(f\"Retry failed for link: {i} - Error: {e}\")\n",
    "ontologie_speichern(onto)"
   ]
  },
  {
   "cell_type": "markdown",
   "metadata": {},
   "source": [
    "OWL Dateien Formatieren. "
   ]
  },
  {
   "cell_type": "code",
   "execution_count": 28,
   "metadata": {
    "ExecuteTime": {
     "end_time": "2024-07-29T15:06:42.567394Z",
     "start_time": "2024-07-29T15:06:42.542563Z"
    }
   },
   "outputs": [],
   "source": [
    "def replace_quotes_in_file(file_path):\n",
    "    \"\"\"\n",
    "    Replaces nested double quotes within rdf:about attributes with single quotes\n",
    "    in an RDF/XML file, modifying the file in place.\n",
    "\n",
    "    Args:\n",
    "        file_path (str): Path to the RDF/XML file to be modified.\n",
    "    \"\"\"\n",
    "    try:\n",
    "        for line in fileinput.input(file_path, inplace=True):\n",
    "            # Step 1: Handle nested double quotes\n",
    "            line = re.sub(r'(rdf:about=\"#)([^\"]*)(\")([^\"]*)(\")', r'\\1\\2&quot;\\4&quot;', line)\n",
    "\n",
    "            # Step 2: Replace &quot; entities with '\n",
    "            line = line.replace(\"&quot;\", \"'\")\n",
    "            line = line.replace(\"%20\", \"_\")\n",
    "            \n",
    "            print(line, end=\"\")  # Print the modified line (fileinput.input will write it back)\n",
    "\n",
    "        print(f\"Quotes replaced successfully in file: {file_path}\")\n",
    "\n",
    "    except FileNotFoundError:\n",
    "        print(f\"Error: File not found at {file_path}\")\n",
    "    except Exception as e:\n",
    "        print(f\"An error occurred: {e}\")\n",
    "\n",
    "# Example usage\n",
    "file_path = \"cybersecurity_complete_v9.owl\"  # Replace with your file's path\n",
    "replace_quotes_in_file(file_path)"
   ]
  },
  {
   "cell_type": "markdown",
   "metadata": {},
   "source": [
    "Code um Verzeichnisse zu erfahren: \n"
   ]
  },
  {
   "cell_type": "code",
   "execution_count": 28,
   "metadata": {
    "ExecuteTime": {
     "end_time": "2024-07-29T15:06:42.570361Z",
     "start_time": "2024-07-29T15:06:42.568403Z"
    }
   },
   "outputs": [],
   "source": []
  }
 ],
 "metadata": {
  "kernelspec": {
   "display_name": "Python 3",
   "language": "python",
   "name": "python3"
  },
  "language_info": {
   "codemirror_mode": {
    "name": "ipython",
    "version": 3
   },
   "file_extension": ".py",
   "mimetype": "text/x-python",
   "name": "python",
   "nbconvert_exporter": "python",
   "pygments_lexer": "ipython3",
   "version": "3.12.0"
  }
 },
 "nbformat": 4,
 "nbformat_minor": 2
}
